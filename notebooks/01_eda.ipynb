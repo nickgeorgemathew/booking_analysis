{
 "cells": [
  {
   "cell_type": "markdown",
   "id": "10bf89ab",
   "metadata": {},
   "source": [
    "# EDA and Feature engineering\n"
   ]
  },
  {
   "cell_type": "markdown",
   "id": "69202814",
   "metadata": {},
   "source": [
    "## Intro and Goals"
   ]
  },
  {
   "cell_type": "markdown",
   "id": "52dc92cf",
   "metadata": {},
   "source": [
    "### Analysing the booking completetion of booking tickets\n",
    "#### Problem statement and Scope\n",
    "Airline and travel booking platforms often experience a significant number of incomplete bookings — customers start the booking process (selecting routes, seats, and preferences) but abandon before final payment.\n",
    "This project aims to predict whether a booking will be completed using historical booking data containing features like purchase lead time, travel routes, flight durations, and seat preferences.\n",
    "\n",
    "By identifying factors that influence booking completion, the business can:\n",
    "\n",
    "Optimize the booking process to reduce drop-offs.\n",
    "\n",
    "Target at-risk customers with personalized reminders or offers.\n",
    "\n",
    "Improve marketing ROI by focusing on high-likelihood customers.\n",
    "\n",
    "Goal: Build a machine learning model that predicts booking completion with high accuracy, while ensuring interpretability for business stakeholders.\n",
    "\n",
    "Success Criteria:\n",
    "\n",
    "Primary: Achieve at least 85% accuracy or 0.85 F1-score on test data.\n",
    "\n",
    "Secondary: Identify the top 5 most influential factors affecting booking completion.\n"
   ]
  },
  {
   "cell_type": "markdown",
   "id": "422b729f",
   "metadata": {},
   "source": [
    "## Load and data checks"
   ]
  },
  {
   "cell_type": "code",
   "execution_count": 2,
   "id": "44835a82",
   "metadata": {},
   "outputs": [],
   "source": [
    "#imports\n",
    "\n",
    "import pandas as pd\n",
    "import matplotlib.pyplot as plt\n",
    "import seaborn as sns \n",
    "import numpy as np\n",
    "import plotly.express as px"
   ]
  },
  {
   "cell_type": "code",
   "execution_count": 3,
   "id": "d33ec829",
   "metadata": {},
   "outputs": [
    {
     "name": "stdout",
     "output_type": "stream",
     "text": [
      "<class 'pandas.core.frame.DataFrame'>\n",
      "RangeIndex: 50000 entries, 0 to 49999\n",
      "Data columns (total 14 columns):\n",
      " #   Column                 Non-Null Count  Dtype  \n",
      "---  ------                 --------------  -----  \n",
      " 0   num_passengers         50000 non-null  int64  \n",
      " 1   sales_channel          50000 non-null  object \n",
      " 2   trip_type              50000 non-null  object \n",
      " 3   purchase_lead          50000 non-null  int64  \n",
      " 4   length_of_stay         50000 non-null  int64  \n",
      " 5   flight_hour            50000 non-null  int64  \n",
      " 6   flight_day             50000 non-null  object \n",
      " 7   route                  50000 non-null  object \n",
      " 8   booking_origin         50000 non-null  object \n",
      " 9   wants_extra_baggage    50000 non-null  int64  \n",
      " 10  wants_preferred_seat   50000 non-null  int64  \n",
      " 11  wants_in_flight_meals  50000 non-null  int64  \n",
      " 12  flight_duration        50000 non-null  float64\n",
      " 13  booking_complete       50000 non-null  int64  \n",
      "dtypes: float64(1), int64(8), object(5)\n",
      "memory usage: 5.3+ MB\n"
     ]
    }
   ],
   "source": [
    "df=pd.read_csv(\"customer_booking.csv\",encoding=\"ISO-8859-1\")\n",
    "df=df.copy()\n",
    "df.info()"
   ]
  },
  {
   "cell_type": "code",
   "execution_count": 4,
   "id": "265c383f",
   "metadata": {},
   "outputs": [
    {
     "data": {
      "application/vnd.microsoft.datawrangler.viewer.v0+json": {
       "columns": [
        {
         "name": "index",
         "rawType": "object",
         "type": "string"
        },
        {
         "name": "num_passengers",
         "rawType": "float64",
         "type": "float"
        },
        {
         "name": "purchase_lead",
         "rawType": "float64",
         "type": "float"
        },
        {
         "name": "length_of_stay",
         "rawType": "float64",
         "type": "float"
        },
        {
         "name": "flight_hour",
         "rawType": "float64",
         "type": "float"
        },
        {
         "name": "wants_extra_baggage",
         "rawType": "float64",
         "type": "float"
        },
        {
         "name": "wants_preferred_seat",
         "rawType": "float64",
         "type": "float"
        },
        {
         "name": "wants_in_flight_meals",
         "rawType": "float64",
         "type": "float"
        },
        {
         "name": "flight_duration",
         "rawType": "float64",
         "type": "float"
        },
        {
         "name": "booking_complete",
         "rawType": "float64",
         "type": "float"
        }
       ],
       "ref": "5a889708-9ad8-481d-b95f-a2c0fb6747c4",
       "rows": [
        [
         "count",
         "50000.0",
         "50000.0",
         "50000.0",
         "50000.0",
         "50000.0",
         "50000.0",
         "50000.0",
         "50000.0",
         "50000.0"
        ],
        [
         "mean",
         "1.59124",
         "84.94048",
         "23.04456",
         "9.06634",
         "0.66878",
         "0.29696",
         "0.42714",
         "7.2775608",
         "0.14956"
        ],
        [
         "std",
         "1.020164730385021",
         "90.45137813436415",
         "33.887670056969654",
         "5.412659692064414",
         "0.47065671349173294",
         "0.45692333490278164",
         "0.49466788285301727",
         "1.496862916327065",
         "0.35664316941027446"
        ],
        [
         "min",
         "1.0",
         "0.0",
         "0.0",
         "0.0",
         "0.0",
         "0.0",
         "0.0",
         "4.67",
         "0.0"
        ],
        [
         "25%",
         "1.0",
         "21.0",
         "5.0",
         "5.0",
         "0.0",
         "0.0",
         "0.0",
         "5.62",
         "0.0"
        ],
        [
         "50%",
         "1.0",
         "51.0",
         "17.0",
         "9.0",
         "1.0",
         "0.0",
         "0.0",
         "7.57",
         "0.0"
        ],
        [
         "75%",
         "2.0",
         "115.0",
         "28.0",
         "13.0",
         "1.0",
         "1.0",
         "1.0",
         "8.83",
         "0.0"
        ],
        [
         "max",
         "9.0",
         "867.0",
         "778.0",
         "23.0",
         "1.0",
         "1.0",
         "1.0",
         "9.5",
         "1.0"
        ]
       ],
       "shape": {
        "columns": 9,
        "rows": 8
       }
      },
      "text/html": [
       "<div>\n",
       "<style scoped>\n",
       "    .dataframe tbody tr th:only-of-type {\n",
       "        vertical-align: middle;\n",
       "    }\n",
       "\n",
       "    .dataframe tbody tr th {\n",
       "        vertical-align: top;\n",
       "    }\n",
       "\n",
       "    .dataframe thead th {\n",
       "        text-align: right;\n",
       "    }\n",
       "</style>\n",
       "<table border=\"1\" class=\"dataframe\">\n",
       "  <thead>\n",
       "    <tr style=\"text-align: right;\">\n",
       "      <th></th>\n",
       "      <th>num_passengers</th>\n",
       "      <th>purchase_lead</th>\n",
       "      <th>length_of_stay</th>\n",
       "      <th>flight_hour</th>\n",
       "      <th>wants_extra_baggage</th>\n",
       "      <th>wants_preferred_seat</th>\n",
       "      <th>wants_in_flight_meals</th>\n",
       "      <th>flight_duration</th>\n",
       "      <th>booking_complete</th>\n",
       "    </tr>\n",
       "  </thead>\n",
       "  <tbody>\n",
       "    <tr>\n",
       "      <th>count</th>\n",
       "      <td>50000.000000</td>\n",
       "      <td>50000.000000</td>\n",
       "      <td>50000.00000</td>\n",
       "      <td>50000.00000</td>\n",
       "      <td>50000.000000</td>\n",
       "      <td>50000.000000</td>\n",
       "      <td>50000.000000</td>\n",
       "      <td>50000.000000</td>\n",
       "      <td>50000.000000</td>\n",
       "    </tr>\n",
       "    <tr>\n",
       "      <th>mean</th>\n",
       "      <td>1.591240</td>\n",
       "      <td>84.940480</td>\n",
       "      <td>23.04456</td>\n",
       "      <td>9.06634</td>\n",
       "      <td>0.668780</td>\n",
       "      <td>0.296960</td>\n",
       "      <td>0.427140</td>\n",
       "      <td>7.277561</td>\n",
       "      <td>0.149560</td>\n",
       "    </tr>\n",
       "    <tr>\n",
       "      <th>std</th>\n",
       "      <td>1.020165</td>\n",
       "      <td>90.451378</td>\n",
       "      <td>33.88767</td>\n",
       "      <td>5.41266</td>\n",
       "      <td>0.470657</td>\n",
       "      <td>0.456923</td>\n",
       "      <td>0.494668</td>\n",
       "      <td>1.496863</td>\n",
       "      <td>0.356643</td>\n",
       "    </tr>\n",
       "    <tr>\n",
       "      <th>min</th>\n",
       "      <td>1.000000</td>\n",
       "      <td>0.000000</td>\n",
       "      <td>0.00000</td>\n",
       "      <td>0.00000</td>\n",
       "      <td>0.000000</td>\n",
       "      <td>0.000000</td>\n",
       "      <td>0.000000</td>\n",
       "      <td>4.670000</td>\n",
       "      <td>0.000000</td>\n",
       "    </tr>\n",
       "    <tr>\n",
       "      <th>25%</th>\n",
       "      <td>1.000000</td>\n",
       "      <td>21.000000</td>\n",
       "      <td>5.00000</td>\n",
       "      <td>5.00000</td>\n",
       "      <td>0.000000</td>\n",
       "      <td>0.000000</td>\n",
       "      <td>0.000000</td>\n",
       "      <td>5.620000</td>\n",
       "      <td>0.000000</td>\n",
       "    </tr>\n",
       "    <tr>\n",
       "      <th>50%</th>\n",
       "      <td>1.000000</td>\n",
       "      <td>51.000000</td>\n",
       "      <td>17.00000</td>\n",
       "      <td>9.00000</td>\n",
       "      <td>1.000000</td>\n",
       "      <td>0.000000</td>\n",
       "      <td>0.000000</td>\n",
       "      <td>7.570000</td>\n",
       "      <td>0.000000</td>\n",
       "    </tr>\n",
       "    <tr>\n",
       "      <th>75%</th>\n",
       "      <td>2.000000</td>\n",
       "      <td>115.000000</td>\n",
       "      <td>28.00000</td>\n",
       "      <td>13.00000</td>\n",
       "      <td>1.000000</td>\n",
       "      <td>1.000000</td>\n",
       "      <td>1.000000</td>\n",
       "      <td>8.830000</td>\n",
       "      <td>0.000000</td>\n",
       "    </tr>\n",
       "    <tr>\n",
       "      <th>max</th>\n",
       "      <td>9.000000</td>\n",
       "      <td>867.000000</td>\n",
       "      <td>778.00000</td>\n",
       "      <td>23.00000</td>\n",
       "      <td>1.000000</td>\n",
       "      <td>1.000000</td>\n",
       "      <td>1.000000</td>\n",
       "      <td>9.500000</td>\n",
       "      <td>1.000000</td>\n",
       "    </tr>\n",
       "  </tbody>\n",
       "</table>\n",
       "</div>"
      ],
      "text/plain": [
       "       num_passengers  purchase_lead  length_of_stay  flight_hour  \\\n",
       "count    50000.000000   50000.000000     50000.00000  50000.00000   \n",
       "mean         1.591240      84.940480        23.04456      9.06634   \n",
       "std          1.020165      90.451378        33.88767      5.41266   \n",
       "min          1.000000       0.000000         0.00000      0.00000   \n",
       "25%          1.000000      21.000000         5.00000      5.00000   \n",
       "50%          1.000000      51.000000        17.00000      9.00000   \n",
       "75%          2.000000     115.000000        28.00000     13.00000   \n",
       "max          9.000000     867.000000       778.00000     23.00000   \n",
       "\n",
       "       wants_extra_baggage  wants_preferred_seat  wants_in_flight_meals  \\\n",
       "count         50000.000000          50000.000000           50000.000000   \n",
       "mean              0.668780              0.296960               0.427140   \n",
       "std               0.470657              0.456923               0.494668   \n",
       "min               0.000000              0.000000               0.000000   \n",
       "25%               0.000000              0.000000               0.000000   \n",
       "50%               1.000000              0.000000               0.000000   \n",
       "75%               1.000000              1.000000               1.000000   \n",
       "max               1.000000              1.000000               1.000000   \n",
       "\n",
       "       flight_duration  booking_complete  \n",
       "count     50000.000000      50000.000000  \n",
       "mean          7.277561          0.149560  \n",
       "std           1.496863          0.356643  \n",
       "min           4.670000          0.000000  \n",
       "25%           5.620000          0.000000  \n",
       "50%           7.570000          0.000000  \n",
       "75%           8.830000          0.000000  \n",
       "max           9.500000          1.000000  "
      ]
     },
     "execution_count": 4,
     "metadata": {},
     "output_type": "execute_result"
    }
   ],
   "source": [
    "df.describe()"
   ]
  },
  {
   "cell_type": "markdown",
   "id": "6dd5c3f4",
   "metadata": {},
   "source": [
    "## Target Balance"
   ]
  },
  {
   "cell_type": "code",
   "execution_count": 5,
   "id": "43b9281e",
   "metadata": {},
   "outputs": [
    {
     "name": "stdout",
     "output_type": "stream",
     "text": [
      "Booking completion class counts:\n",
      "booking_complete\n",
      "0    42522\n",
      "1     7478\n",
      "\n",
      "Booking completion class rates (%):\n",
      "booking_complete\n",
      "0    85.04\n",
      "1    14.96\n"
     ]
    },
    {
     "data": {
      "application/vnd.microsoft.datawrangler.viewer.v0+json": {
       "columns": [
        {
         "name": "booking_complete",
         "rawType": "int64",
         "type": "integer"
        },
        {
         "name": "count",
         "rawType": "int64",
         "type": "integer"
        },
        {
         "name": "rate_%",
         "rawType": "float64",
         "type": "float"
        }
       ],
       "ref": "ea61d1b8-ff03-40fc-b00a-6e3a8348d66d",
       "rows": [
        [
         "0",
         "42522",
         "85.04"
        ],
        [
         "1",
         "7478",
         "14.96"
        ]
       ],
       "shape": {
        "columns": 2,
        "rows": 2
       }
      },
      "text/html": [
       "<div>\n",
       "<style scoped>\n",
       "    .dataframe tbody tr th:only-of-type {\n",
       "        vertical-align: middle;\n",
       "    }\n",
       "\n",
       "    .dataframe tbody tr th {\n",
       "        vertical-align: top;\n",
       "    }\n",
       "\n",
       "    .dataframe thead th {\n",
       "        text-align: right;\n",
       "    }\n",
       "</style>\n",
       "<table border=\"1\" class=\"dataframe\">\n",
       "  <thead>\n",
       "    <tr style=\"text-align: right;\">\n",
       "      <th></th>\n",
       "      <th>count</th>\n",
       "      <th>rate_%</th>\n",
       "    </tr>\n",
       "    <tr>\n",
       "      <th>booking_complete</th>\n",
       "      <th></th>\n",
       "      <th></th>\n",
       "    </tr>\n",
       "  </thead>\n",
       "  <tbody>\n",
       "    <tr>\n",
       "      <th>0</th>\n",
       "      <td>42522</td>\n",
       "      <td>85.04</td>\n",
       "    </tr>\n",
       "    <tr>\n",
       "      <th>1</th>\n",
       "      <td>7478</td>\n",
       "      <td>14.96</td>\n",
       "    </tr>\n",
       "  </tbody>\n",
       "</table>\n",
       "</div>"
      ],
      "text/plain": [
       "                  count  rate_%\n",
       "booking_complete               \n",
       "0                 42522   85.04\n",
       "1                  7478   14.96"
      ]
     },
     "metadata": {},
     "output_type": "display_data"
    }
   ],
   "source": [
    "import pandas as pd\n",
    "\n",
    "\n",
    "if df['booking_complete'].dtype != 'int64' and df['booking_complete'].dtype != 'float64':\n",
    "    \n",
    "    df['booking_complete'] = df['booking_complete'].map({True:1, False:0, 'Yes':1, 'No':0, 'Y':1, 'N':0}).fillna(df['booking_complete'])\n",
    "df['booking_complete'] = df['booking_complete'].astype(int)\n",
    "\n",
    "# Class balance\n",
    "counts = df['booking_complete'].value_counts(dropna=False)\n",
    "rates = df['booking_complete'].value_counts(normalize=True, dropna=False).mul(100).round(2)\n",
    "\n",
    "print(\"Booking completion class counts:\")\n",
    "print(counts.to_string())\n",
    "print(\"\\nBooking completion class rates (%):\")\n",
    "print(rates.to_string())\n",
    "\n",
    "# Small, neat display as a DataFrame\n",
    "class_balance = pd.DataFrame({\n",
    "    'count': counts,\n",
    "    'rate_%': rates\n",
    "}).sort_index()\n",
    "display(class_balance)\n"
   ]
  },
  {
   "cell_type": "markdown",
   "id": "04892d74",
   "metadata": {},
   "source": [
    "## Type cleaning"
   ]
  },
  {
   "cell_type": "code",
   "execution_count": 6,
   "id": "ca6495d1",
   "metadata": {},
   "outputs": [
    {
     "data": {
      "application/vnd.microsoft.datawrangler.viewer.v0+json": {
       "columns": [
        {
         "name": "index",
         "rawType": "int64",
         "type": "integer"
        },
        {
         "name": "flight_day_numerical",
         "rawType": "int64",
         "type": "integer"
        }
       ],
       "ref": "69580c3f-0a7e-4d79-97c8-61326fd2fcd0",
       "rows": [
        [
         "0",
         "6"
        ],
        [
         "1",
         "6"
        ],
        [
         "2",
         "3"
        ],
        [
         "3",
         "6"
        ],
        [
         "4",
         "3"
        ],
        [
         "5",
         "4"
        ],
        [
         "6",
         "4"
        ],
        [
         "7",
         "1"
        ],
        [
         "8",
         "1"
        ],
        [
         "9",
         "7"
        ],
        [
         "10",
         "2"
        ],
        [
         "11",
         "6"
        ],
        [
         "12",
         "1"
        ],
        [
         "13",
         "5"
        ],
        [
         "14",
         "2"
        ],
        [
         "15",
         "4"
        ],
        [
         "16",
         "7"
        ],
        [
         "17",
         "6"
        ],
        [
         "18",
         "7"
        ],
        [
         "19",
         "7"
        ],
        [
         "20",
         "3"
        ],
        [
         "21",
         "3"
        ],
        [
         "22",
         "1"
        ],
        [
         "23",
         "5"
        ],
        [
         "24",
         "4"
        ],
        [
         "25",
         "4"
        ],
        [
         "26",
         "5"
        ],
        [
         "27",
         "1"
        ],
        [
         "28",
         "2"
        ],
        [
         "29",
         "2"
        ],
        [
         "30",
         "3"
        ],
        [
         "31",
         "4"
        ],
        [
         "32",
         "5"
        ],
        [
         "33",
         "1"
        ],
        [
         "34",
         "5"
        ],
        [
         "35",
         "3"
        ],
        [
         "36",
         "6"
        ],
        [
         "37",
         "5"
        ],
        [
         "38",
         "4"
        ],
        [
         "39",
         "1"
        ],
        [
         "40",
         "1"
        ],
        [
         "41",
         "4"
        ],
        [
         "42",
         "1"
        ],
        [
         "43",
         "3"
        ],
        [
         "44",
         "4"
        ],
        [
         "45",
         "7"
        ],
        [
         "46",
         "3"
        ],
        [
         "47",
         "3"
        ],
        [
         "48",
         "5"
        ],
        [
         "49",
         "3"
        ]
       ],
       "shape": {
        "columns": 1,
        "rows": 50000
       }
      },
      "text/plain": [
       "0        6\n",
       "1        6\n",
       "2        3\n",
       "3        6\n",
       "4        3\n",
       "        ..\n",
       "49995    6\n",
       "49996    7\n",
       "49997    6\n",
       "49998    1\n",
       "49999    4\n",
       "Name: flight_day_numerical, Length: 50000, dtype: int64"
      ]
     },
     "execution_count": 6,
     "metadata": {},
     "output_type": "execute_result"
    }
   ],
   "source": [
    "# map the days with their corresponding order in a week \n",
    "df['flight_day'].value_counts()\n",
    "mapping={'Mon':1,'Tue':2,'Wed':3,'Thu':4,'Fri':5,'Sat':6,'Sun':7}\n",
    "df['flight_day_numerical']=df['flight_day'].map(mapping)\n",
    "df['flight_day_numerical']"
   ]
  },
  {
   "cell_type": "code",
   "execution_count": 7,
   "id": "45317c36",
   "metadata": {},
   "outputs": [],
   "source": [
    "df['flight_duration']=df['flight_duration'].clip(lower=0)\n",
    "df['flight_hour']=df['flight_hour'].clip(lower=0)\n",
    "df['num_passengers']=df['num_passengers'].clip(lower=1)\n",
    "df['length_of_stay']=df['length_of_stay'].clip(lower=0)\n",
    "df['purchase_lead']=df['purchase_lead'].clip(lower=0)"
   ]
  },
  {
   "cell_type": "code",
   "execution_count": 8,
   "id": "8c6a04a5",
   "metadata": {},
   "outputs": [],
   "source": [
    "num_cols = df.select_dtypes(include=['number']).columns.tolist()\n",
    "cat_cols = df.select_dtypes(include=['object','category']).columns.tolist()\n",
    "\n",
    "df[num_cols] = df[num_cols].apply(lambda s: s.fillna(s.median()))\n",
    "df[cat_cols] = df[cat_cols].apply(lambda s: s.fillna('Unknown'))"
   ]
  },
  {
   "cell_type": "code",
   "execution_count": 9,
   "id": "3cbc0eca",
   "metadata": {},
   "outputs": [
    {
     "data": {
      "application/vnd.microsoft.datawrangler.viewer.v0+json": {
       "columns": [
        {
         "name": "index",
         "rawType": "object",
         "type": "string"
        },
        {
         "name": "0",
         "rawType": "int64",
         "type": "integer"
        }
       ],
       "ref": "173db0be-a46b-4efc-9e5e-7509c140daca",
       "rows": [
        [
         "num_passengers",
         "0"
        ],
        [
         "sales_channel",
         "0"
        ],
        [
         "trip_type",
         "0"
        ],
        [
         "purchase_lead",
         "0"
        ],
        [
         "length_of_stay",
         "0"
        ],
        [
         "flight_hour",
         "0"
        ],
        [
         "flight_day",
         "0"
        ],
        [
         "route",
         "0"
        ],
        [
         "booking_origin",
         "0"
        ],
        [
         "wants_extra_baggage",
         "0"
        ],
        [
         "wants_preferred_seat",
         "0"
        ],
        [
         "wants_in_flight_meals",
         "0"
        ],
        [
         "flight_duration",
         "0"
        ],
        [
         "booking_complete",
         "0"
        ],
        [
         "flight_day_numerical",
         "0"
        ]
       ],
       "shape": {
        "columns": 1,
        "rows": 15
       }
      },
      "text/plain": [
       "num_passengers           0\n",
       "sales_channel            0\n",
       "trip_type                0\n",
       "purchase_lead            0\n",
       "length_of_stay           0\n",
       "flight_hour              0\n",
       "flight_day               0\n",
       "route                    0\n",
       "booking_origin           0\n",
       "wants_extra_baggage      0\n",
       "wants_preferred_seat     0\n",
       "wants_in_flight_meals    0\n",
       "flight_duration          0\n",
       "booking_complete         0\n",
       "flight_day_numerical     0\n",
       "dtype: int64"
      ]
     },
     "metadata": {},
     "output_type": "display_data"
    }
   ],
   "source": [
    "display(df.isna().sum().sort_values(ascending=False).head(15))"
   ]
  },
  {
   "cell_type": "markdown",
   "id": "9f6d3f60",
   "metadata": {},
   "source": [
    "## Bins and dayparts"
   ]
  },
  {
   "cell_type": "code",
   "execution_count": 10,
   "id": "9625b8ba",
   "metadata": {},
   "outputs": [],
   "source": [
    "\n",
    "\n",
    "# Lead bins\n",
    "lead_bins=[-np.inf,3,7,14,30,90,np.inf]\n",
    "lead_bins_label=['0-3','4-7','8-14','15-30','31-90','90+']\n",
    "df['lead_bins']=pd.cut(df['purchase_lead'].clip(lower=0),bins=lead_bins,labels=lead_bins_label,include_lowest=True)\n",
    "# length of stay bins\n",
    "stay_bins=[-np.inf,3,7,14,30,90,np.inf]\n",
    "stay_bins_label=['0-3','4-7','8-14','15-30','31-90','90+']\n",
    "df['stay_bin']=pd.cut(df['length_of_stay'].clip(lower=0),bins=stay_bins,labels=stay_bins_label,include_lowest=True)\n",
    "#part of the day\n",
    "def day_part(h):\n",
    "    if 0 <= h <= 5: return 'night'\n",
    "    if 6 <= h <= 11: return 'morning'\n",
    "    if 12 <= h <= 17: return 'afternoon'\n",
    "    return 'evening'\n",
    "df['daypart'] = df['flight_hour'].apply(day_part)\n",
    "\n",
    "\n",
    "\n"
   ]
  },
  {
   "cell_type": "markdown",
   "id": "d5ed0b67",
   "metadata": {},
   "source": [
    "## Completion rate plots"
   ]
  },
  {
   "cell_type": "code",
   "execution_count": 11,
   "id": "d9214d8a",
   "metadata": {},
   "outputs": [
    {
     "data": {
      "application/vnd.microsoft.datawrangler.viewer.v0+json": {
       "columns": [
        {
         "name": "index",
         "rawType": "int64",
         "type": "integer"
        },
        {
         "name": "feature",
         "rawType": "object",
         "type": "string"
        },
        {
         "name": "value",
         "rawType": "object",
         "type": "unknown"
        },
        {
         "name": "complete_%",
         "rawType": "float64",
         "type": "float"
        },
        {
         "name": "not_complete_%",
         "rawType": "float64",
         "type": "float"
        }
       ],
       "ref": "55bab7d1-ad49-4df8-853e-eaf00ac33408",
       "rows": [
        [
         "0",
         "num_passengers",
         "1",
         "59.57",
         "63.25"
        ],
        [
         "1",
         "num_passengers",
         "2",
         "27.43",
         "25.29"
        ],
        [
         "2",
         "num_passengers",
         "3",
         "6.57",
         "5.76"
        ],
        [
         "3",
         "num_passengers",
         "4",
         "3.68",
         "3.55"
        ],
        [
         "4",
         "num_passengers",
         "5",
         "1.46",
         "1.06"
        ],
        [
         "5",
         "num_passengers",
         "6",
         "0.72",
         "0.55"
        ],
        [
         "6",
         "num_passengers",
         "7",
         "0.24",
         "0.23"
        ],
        [
         "7",
         "num_passengers",
         "8",
         "0.16",
         "0.18"
        ],
        [
         "8",
         "num_passengers",
         "9",
         "0.17",
         "0.12"
        ],
        [
         "9",
         "sales_channel",
         "Internet",
         "91.86",
         "88.22"
        ],
        [
         "10",
         "sales_channel",
         "Mobile",
         "8.14",
         "11.78"
        ],
        [
         "11",
         "trip_type",
         "RoundTrip",
         "99.67",
         "98.88"
        ],
        [
         "12",
         "trip_type",
         "OneWay",
         "0.27",
         "0.86"
        ],
        [
         "13",
         "trip_type",
         "CircleTrip",
         "0.07",
         "0.26"
        ],
        [
         "14",
         "purchase_lead",
         "0",
         "0.56",
         "0.77"
        ],
        [
         "15",
         "purchase_lead",
         "1",
         "1.36",
         "1.37"
        ],
        [
         "16",
         "purchase_lead",
         "2",
         "1.6",
         "1.29"
        ],
        [
         "17",
         "purchase_lead",
         "3",
         "1.52",
         "1.09"
        ],
        [
         "18",
         "purchase_lead",
         "4",
         "1.62",
         "1.14"
        ],
        [
         "19",
         "purchase_lead",
         "5",
         "1.28",
         "1.22"
        ],
        [
         "20",
         "purchase_lead",
         "6",
         "1.58",
         "1.26"
        ],
        [
         "21",
         "purchase_lead",
         "7",
         "1.63",
         "1.21"
        ],
        [
         "22",
         "purchase_lead",
         "8",
         "1.44",
         "1.15"
        ],
        [
         "23",
         "purchase_lead",
         "9",
         "1.39",
         "1.15"
        ],
        [
         "24",
         "purchase_lead",
         "10",
         "1.38",
         "1.1"
        ],
        [
         "25",
         "purchase_lead",
         "11",
         "1.11",
         "1.09"
        ],
        [
         "26",
         "purchase_lead",
         "12",
         "1.39",
         "1.14"
        ],
        [
         "27",
         "purchase_lead",
         "13",
         "1.56",
         "1.15"
        ],
        [
         "28",
         "purchase_lead",
         "14",
         "1.16",
         "1.07"
        ],
        [
         "29",
         "purchase_lead",
         "15",
         "1.48",
         "1.03"
        ],
        [
         "30",
         "purchase_lead",
         "16",
         "1.15",
         "1.08"
        ],
        [
         "31",
         "purchase_lead",
         "17",
         "1.23",
         "1.01"
        ],
        [
         "32",
         "purchase_lead",
         "18",
         "1.0",
         "1.14"
        ],
        [
         "33",
         "purchase_lead",
         "19",
         "1.22",
         "1.08"
        ],
        [
         "34",
         "purchase_lead",
         "20",
         "1.43",
         "1.13"
        ],
        [
         "35",
         "purchase_lead",
         "21",
         "1.11",
         "1.11"
        ],
        [
         "36",
         "purchase_lead",
         "22",
         "1.06",
         "1.09"
        ],
        [
         "37",
         "purchase_lead",
         "23",
         "1.07",
         "1.02"
        ],
        [
         "38",
         "purchase_lead",
         "24",
         "0.75",
         "1.01"
        ],
        [
         "39",
         "purchase_lead",
         "25",
         "0.94",
         "1.01"
        ],
        [
         "40",
         "purchase_lead",
         "26",
         "0.99",
         "0.98"
        ],
        [
         "41",
         "purchase_lead",
         "27",
         "0.86",
         "1.04"
        ],
        [
         "42",
         "purchase_lead",
         "28",
         "0.92",
         "0.9"
        ],
        [
         "43",
         "purchase_lead",
         "29",
         "1.02",
         "1.0"
        ],
        [
         "44",
         "purchase_lead",
         "30",
         "0.87",
         "0.83"
        ],
        [
         "45",
         "purchase_lead",
         "31",
         "0.91",
         "0.82"
        ],
        [
         "46",
         "purchase_lead",
         "32",
         "0.9",
         "0.86"
        ],
        [
         "47",
         "purchase_lead",
         "33",
         "0.82",
         "0.86"
        ],
        [
         "48",
         "purchase_lead",
         "34",
         "0.74",
         "0.78"
        ],
        [
         "49",
         "purchase_lead",
         "35",
         "0.82",
         "0.75"
        ]
       ],
       "shape": {
        "columns": 4,
        "rows": 1803
       }
      },
      "text/html": [
       "<div>\n",
       "<style scoped>\n",
       "    .dataframe tbody tr th:only-of-type {\n",
       "        vertical-align: middle;\n",
       "    }\n",
       "\n",
       "    .dataframe tbody tr th {\n",
       "        vertical-align: top;\n",
       "    }\n",
       "\n",
       "    .dataframe thead th {\n",
       "        text-align: right;\n",
       "    }\n",
       "</style>\n",
       "<table border=\"1\" class=\"dataframe\">\n",
       "  <thead>\n",
       "    <tr style=\"text-align: right;\">\n",
       "      <th></th>\n",
       "      <th>feature</th>\n",
       "      <th>value</th>\n",
       "      <th>complete_%</th>\n",
       "      <th>not_complete_%</th>\n",
       "    </tr>\n",
       "  </thead>\n",
       "  <tbody>\n",
       "    <tr>\n",
       "      <th>0</th>\n",
       "      <td>num_passengers</td>\n",
       "      <td>1</td>\n",
       "      <td>59.57</td>\n",
       "      <td>63.25</td>\n",
       "    </tr>\n",
       "    <tr>\n",
       "      <th>1</th>\n",
       "      <td>num_passengers</td>\n",
       "      <td>2</td>\n",
       "      <td>27.43</td>\n",
       "      <td>25.29</td>\n",
       "    </tr>\n",
       "    <tr>\n",
       "      <th>2</th>\n",
       "      <td>num_passengers</td>\n",
       "      <td>3</td>\n",
       "      <td>6.57</td>\n",
       "      <td>5.76</td>\n",
       "    </tr>\n",
       "    <tr>\n",
       "      <th>3</th>\n",
       "      <td>num_passengers</td>\n",
       "      <td>4</td>\n",
       "      <td>3.68</td>\n",
       "      <td>3.55</td>\n",
       "    </tr>\n",
       "    <tr>\n",
       "      <th>4</th>\n",
       "      <td>num_passengers</td>\n",
       "      <td>5</td>\n",
       "      <td>1.46</td>\n",
       "      <td>1.06</td>\n",
       "    </tr>\n",
       "    <tr>\n",
       "      <th>...</th>\n",
       "      <td>...</td>\n",
       "      <td>...</td>\n",
       "      <td>...</td>\n",
       "      <td>...</td>\n",
       "    </tr>\n",
       "    <tr>\n",
       "      <th>1798</th>\n",
       "      <td>stay_bin</td>\n",
       "      <td>8-14</td>\n",
       "      <td>0.00</td>\n",
       "      <td>0.00</td>\n",
       "    </tr>\n",
       "    <tr>\n",
       "      <th>1799</th>\n",
       "      <td>daypart</td>\n",
       "      <td>afternoon</td>\n",
       "      <td>30.65</td>\n",
       "      <td>26.94</td>\n",
       "    </tr>\n",
       "    <tr>\n",
       "      <th>1800</th>\n",
       "      <td>daypart</td>\n",
       "      <td>evening</td>\n",
       "      <td>4.69</td>\n",
       "      <td>6.15</td>\n",
       "    </tr>\n",
       "    <tr>\n",
       "      <th>1801</th>\n",
       "      <td>daypart</td>\n",
       "      <td>morning</td>\n",
       "      <td>36.44</td>\n",
       "      <td>37.49</td>\n",
       "    </tr>\n",
       "    <tr>\n",
       "      <th>1802</th>\n",
       "      <td>daypart</td>\n",
       "      <td>night</td>\n",
       "      <td>28.22</td>\n",
       "      <td>29.42</td>\n",
       "    </tr>\n",
       "  </tbody>\n",
       "</table>\n",
       "<p>1803 rows × 4 columns</p>\n",
       "</div>"
      ],
      "text/plain": [
       "             feature      value  complete_%  not_complete_%\n",
       "0     num_passengers          1       59.57           63.25\n",
       "1     num_passengers          2       27.43           25.29\n",
       "2     num_passengers          3        6.57            5.76\n",
       "3     num_passengers          4        3.68            3.55\n",
       "4     num_passengers          5        1.46            1.06\n",
       "...              ...        ...         ...             ...\n",
       "1798        stay_bin       8-14        0.00            0.00\n",
       "1799         daypart  afternoon       30.65           26.94\n",
       "1800         daypart    evening        4.69            6.15\n",
       "1801         daypart    morning       36.44           37.49\n",
       "1802         daypart      night       28.22           29.42\n",
       "\n",
       "[1803 rows x 4 columns]"
      ]
     },
     "metadata": {},
     "output_type": "display_data"
    }
   ],
   "source": [
    "\n",
    "\n",
    "col = df.columns.to_list()\n",
    "complete = df[df['booking_complete'] == 1]\n",
    "not_complete = df[df['booking_complete'] == 0]\n",
    "\n",
    "def complete_rate(c: str) -> pd.DataFrame:\n",
    "    \n",
    "    cc = complete[c].value_counts(normalize=True, dropna=False).mul(100).round(2)\n",
    "    nc = not_complete[c].value_counts(normalize=True, dropna=False).mul(100).round(2)\n",
    "\n",
    "    idx = cc.index.union(nc.index)\n",
    "    cc = cc.reindex(idx, fill_value=0.0)\n",
    "    nc = nc.reindex(idx, fill_value=0.0)\n",
    "\n",
    "\n",
    "    out = pd.DataFrame({\n",
    "        'feature': c,\n",
    "        'value': idx,\n",
    "        'complete_%': cc.values,\n",
    "        'not_complete_%': nc.values\n",
    "    })\n",
    "    return out\n",
    "\n",
    "# Aggregate for all columns except the target\n",
    "results = []\n",
    "for c in col:\n",
    "    if c == 'booking_complete':\n",
    "        continue\n",
    "    results.append(complete_rate(c))\n",
    "\n",
    "summary = pd.concat(results, ignore_index=True)\n",
    "display(summary)\n",
    "\n"
   ]
  },
  {
   "cell_type": "code",
   "execution_count": 12,
   "id": "31112df3",
   "metadata": {},
   "outputs": [
    {
     "data": {
      "application/vnd.plotly.v1+json": {
       "config": {
        "plotlyServerURL": "https://plot.ly"
       },
       "data": [
        {
         "hovertemplate": "feature=%{x}<br>complete_%=%{y}<extra></extra>",
         "legendgroup": "",
         "marker": {
          "color": "#636efa",
          "pattern": {
           "shape": ""
          }
         },
         "name": "",
         "orientation": "v",
         "showlegend": false,
         "textposition": "auto",
         "type": "bar",
         "x": [
          "num_passengers",
          "num_passengers",
          "num_passengers",
          "num_passengers",
          "num_passengers",
          "num_passengers",
          "num_passengers",
          "num_passengers",
          "num_passengers",
          "sales_channel",
          "sales_channel",
          "trip_type",
          "trip_type",
          "trip_type",
          "purchase_lead",
          "purchase_lead",
          "purchase_lead",
          "purchase_lead",
          "purchase_lead",
          "purchase_lead",
          "purchase_lead",
          "purchase_lead",
          "purchase_lead",
          "purchase_lead",
          "purchase_lead",
          "purchase_lead",
          "purchase_lead",
          "purchase_lead",
          "purchase_lead",
          "purchase_lead",
          "purchase_lead",
          "purchase_lead",
          "purchase_lead",
          "purchase_lead",
          "purchase_lead",
          "purchase_lead",
          "purchase_lead",
          "purchase_lead",
          "purchase_lead",
          "purchase_lead",
          "purchase_lead",
          "purchase_lead",
          "purchase_lead",
          "purchase_lead",
          "purchase_lead",
          "purchase_lead",
          "purchase_lead",
          "purchase_lead",
          "purchase_lead",
          "purchase_lead",
          "purchase_lead",
          "purchase_lead",
          "purchase_lead",
          "purchase_lead",
          "purchase_lead",
          "purchase_lead",
          "purchase_lead",
          "purchase_lead",
          "purchase_lead",
          "purchase_lead",
          "purchase_lead",
          "purchase_lead",
          "purchase_lead",
          "purchase_lead",
          "purchase_lead",
          "purchase_lead",
          "purchase_lead",
          "purchase_lead",
          "purchase_lead",
          "purchase_lead",
          "purchase_lead",
          "purchase_lead",
          "purchase_lead",
          "purchase_lead",
          "purchase_lead",
          "purchase_lead",
          "purchase_lead",
          "purchase_lead",
          "purchase_lead",
          "purchase_lead",
          "purchase_lead",
          "purchase_lead",
          "purchase_lead",
          "purchase_lead",
          "purchase_lead",
          "purchase_lead",
          "purchase_lead",
          "purchase_lead",
          "purchase_lead",
          "purchase_lead",
          "purchase_lead",
          "purchase_lead",
          "purchase_lead",
          "purchase_lead",
          "purchase_lead",
          "purchase_lead",
          "purchase_lead",
          "purchase_lead",
          "purchase_lead",
          "purchase_lead",
          "purchase_lead",
          "purchase_lead",
          "purchase_lead",
          "purchase_lead",
          "purchase_lead",
          "purchase_lead",
          "purchase_lead",
          "purchase_lead",
          "purchase_lead",
          "purchase_lead",
          "purchase_lead",
          "purchase_lead",
          "purchase_lead",
          "purchase_lead",
          "purchase_lead",
          "purchase_lead",
          "purchase_lead",
          "purchase_lead",
          "purchase_lead",
          "purchase_lead",
          "purchase_lead",
          "purchase_lead",
          "purchase_lead",
          "purchase_lead",
          "purchase_lead",
          "purchase_lead",
          "purchase_lead",
          "purchase_lead",
          "purchase_lead",
          "purchase_lead",
          "purchase_lead",
          "purchase_lead",
          "purchase_lead",
          "purchase_lead",
          "purchase_lead",
          "purchase_lead",
          "purchase_lead",
          "purchase_lead",
          "purchase_lead",
          "purchase_lead",
          "purchase_lead",
          "purchase_lead",
          "purchase_lead",
          "purchase_lead",
          "purchase_lead",
          "purchase_lead",
          "purchase_lead",
          "purchase_lead",
          "purchase_lead",
          "purchase_lead",
          "purchase_lead",
          "purchase_lead",
          "purchase_lead",
          "purchase_lead",
          "purchase_lead",
          "purchase_lead",
          "purchase_lead",
          "purchase_lead",
          "purchase_lead",
          "purchase_lead",
          "purchase_lead",
          "purchase_lead",
          "purchase_lead",
          "purchase_lead",
          "purchase_lead",
          "purchase_lead",
          "purchase_lead",
          "purchase_lead",
          "purchase_lead",
          "purchase_lead",
          "purchase_lead",
          "purchase_lead",
          "purchase_lead",
          "purchase_lead",
          "purchase_lead",
          "purchase_lead",
          "purchase_lead",
          "purchase_lead",
          "purchase_lead",
          "purchase_lead",
          "purchase_lead",
          "purchase_lead",
          "purchase_lead",
          "purchase_lead",
          "purchase_lead",
          "purchase_lead",
          "purchase_lead",
          "purchase_lead",
          "purchase_lead",
          "purchase_lead",
          "purchase_lead",
          "purchase_lead",
          "purchase_lead",
          "purchase_lead",
          "purchase_lead",
          "purchase_lead",
          "purchase_lead",
          "purchase_lead",
          "purchase_lead",
          "purchase_lead",
          "purchase_lead",
          "purchase_lead",
          "purchase_lead",
          "purchase_lead",
          "purchase_lead",
          "purchase_lead",
          "purchase_lead",
          "purchase_lead",
          "purchase_lead",
          "purchase_lead",
          "purchase_lead",
          "purchase_lead",
          "purchase_lead",
          "purchase_lead",
          "purchase_lead",
          "purchase_lead",
          "purchase_lead",
          "purchase_lead",
          "purchase_lead",
          "purchase_lead",
          "purchase_lead",
          "purchase_lead",
          "purchase_lead",
          "purchase_lead",
          "purchase_lead",
          "purchase_lead",
          "purchase_lead",
          "purchase_lead",
          "purchase_lead",
          "purchase_lead",
          "purchase_lead",
          "purchase_lead",
          "purchase_lead",
          "purchase_lead",
          "purchase_lead",
          "purchase_lead",
          "purchase_lead",
          "purchase_lead",
          "purchase_lead",
          "purchase_lead",
          "purchase_lead",
          "purchase_lead",
          "purchase_lead",
          "purchase_lead",
          "purchase_lead",
          "purchase_lead",
          "purchase_lead",
          "purchase_lead",
          "purchase_lead",
          "purchase_lead",
          "purchase_lead",
          "purchase_lead",
          "purchase_lead",
          "purchase_lead",
          "purchase_lead",
          "purchase_lead",
          "purchase_lead",
          "purchase_lead",
          "purchase_lead",
          "purchase_lead",
          "purchase_lead",
          "purchase_lead",
          "purchase_lead",
          "purchase_lead",
          "purchase_lead",
          "purchase_lead",
          "purchase_lead",
          "purchase_lead",
          "purchase_lead",
          "purchase_lead",
          "purchase_lead",
          "purchase_lead",
          "purchase_lead",
          "purchase_lead",
          "purchase_lead",
          "purchase_lead",
          "purchase_lead",
          "purchase_lead",
          "purchase_lead",
          "purchase_lead",
          "purchase_lead",
          "purchase_lead",
          "purchase_lead",
          "purchase_lead",
          "purchase_lead",
          "purchase_lead",
          "purchase_lead",
          "purchase_lead",
          "purchase_lead",
          "purchase_lead",
          "purchase_lead",
          "purchase_lead",
          "purchase_lead",
          "purchase_lead",
          "purchase_lead",
          "purchase_lead",
          "purchase_lead",
          "purchase_lead",
          "purchase_lead",
          "purchase_lead",
          "purchase_lead",
          "purchase_lead",
          "purchase_lead",
          "purchase_lead",
          "purchase_lead",
          "purchase_lead",
          "purchase_lead",
          "purchase_lead",
          "purchase_lead",
          "purchase_lead",
          "purchase_lead",
          "purchase_lead",
          "purchase_lead",
          "purchase_lead",
          "purchase_lead",
          "purchase_lead",
          "purchase_lead",
          "purchase_lead",
          "purchase_lead",
          "purchase_lead",
          "purchase_lead",
          "purchase_lead",
          "purchase_lead",
          "purchase_lead",
          "purchase_lead",
          "purchase_lead",
          "purchase_lead",
          "purchase_lead",
          "purchase_lead",
          "purchase_lead",
          "purchase_lead",
          "purchase_lead",
          "purchase_lead",
          "purchase_lead",
          "purchase_lead",
          "purchase_lead",
          "purchase_lead",
          "purchase_lead",
          "purchase_lead",
          "purchase_lead",
          "purchase_lead",
          "purchase_lead",
          "purchase_lead",
          "purchase_lead",
          "purchase_lead",
          "purchase_lead",
          "purchase_lead",
          "purchase_lead",
          "purchase_lead",
          "purchase_lead",
          "purchase_lead",
          "purchase_lead",
          "purchase_lead",
          "purchase_lead",
          "purchase_lead",
          "purchase_lead",
          "purchase_lead",
          "purchase_lead",
          "purchase_lead",
          "purchase_lead",
          "purchase_lead",
          "purchase_lead",
          "purchase_lead",
          "purchase_lead",
          "purchase_lead",
          "purchase_lead",
          "purchase_lead",
          "purchase_lead",
          "purchase_lead",
          "purchase_lead",
          "purchase_lead",
          "purchase_lead",
          "purchase_lead",
          "purchase_lead",
          "purchase_lead",
          "purchase_lead",
          "purchase_lead",
          "purchase_lead",
          "purchase_lead",
          "purchase_lead",
          "purchase_lead",
          "purchase_lead",
          "purchase_lead",
          "purchase_lead",
          "purchase_lead",
          "purchase_lead",
          "purchase_lead",
          "purchase_lead",
          "purchase_lead",
          "purchase_lead",
          "purchase_lead",
          "purchase_lead",
          "purchase_lead",
          "purchase_lead",
          "purchase_lead",
          "purchase_lead",
          "purchase_lead",
          "purchase_lead",
          "purchase_lead",
          "purchase_lead",
          "purchase_lead",
          "purchase_lead",
          "purchase_lead",
          "purchase_lead",
          "purchase_lead",
          "purchase_lead",
          "purchase_lead",
          "purchase_lead",
          "purchase_lead",
          "purchase_lead",
          "purchase_lead",
          "purchase_lead",
          "purchase_lead",
          "purchase_lead",
          "purchase_lead",
          "purchase_lead",
          "purchase_lead",
          "purchase_lead",
          "purchase_lead",
          "purchase_lead",
          "purchase_lead",
          "purchase_lead",
          "purchase_lead",
          "purchase_lead",
          "purchase_lead",
          "purchase_lead",
          "purchase_lead",
          "purchase_lead",
          "purchase_lead",
          "purchase_lead",
          "purchase_lead",
          "purchase_lead",
          "purchase_lead",
          "purchase_lead",
          "purchase_lead",
          "purchase_lead",
          "purchase_lead",
          "purchase_lead",
          "purchase_lead",
          "purchase_lead",
          "purchase_lead",
          "purchase_lead",
          "purchase_lead",
          "purchase_lead",
          "purchase_lead",
          "purchase_lead",
          "purchase_lead",
          "purchase_lead",
          "purchase_lead",
          "purchase_lead",
          "purchase_lead",
          "purchase_lead",
          "purchase_lead",
          "purchase_lead",
          "purchase_lead",
          "purchase_lead",
          "purchase_lead",
          "purchase_lead",
          "purchase_lead",
          "purchase_lead",
          "purchase_lead",
          "purchase_lead",
          "purchase_lead",
          "purchase_lead",
          "purchase_lead",
          "purchase_lead",
          "purchase_lead",
          "purchase_lead",
          "purchase_lead",
          "purchase_lead",
          "purchase_lead",
          "purchase_lead",
          "purchase_lead",
          "purchase_lead",
          "purchase_lead",
          "purchase_lead",
          "purchase_lead",
          "purchase_lead",
          "purchase_lead",
          "purchase_lead",
          "purchase_lead",
          "purchase_lead",
          "purchase_lead",
          "purchase_lead",
          "length_of_stay",
          "length_of_stay",
          "length_of_stay",
          "length_of_stay",
          "length_of_stay",
          "length_of_stay",
          "length_of_stay",
          "length_of_stay",
          "length_of_stay",
          "length_of_stay",
          "length_of_stay",
          "length_of_stay",
          "length_of_stay",
          "length_of_stay",
          "length_of_stay",
          "length_of_stay",
          "length_of_stay",
          "length_of_stay",
          "length_of_stay",
          "length_of_stay",
          "length_of_stay",
          "length_of_stay",
          "length_of_stay",
          "length_of_stay",
          "length_of_stay",
          "length_of_stay",
          "length_of_stay",
          "length_of_stay",
          "length_of_stay",
          "length_of_stay",
          "length_of_stay",
          "length_of_stay",
          "length_of_stay",
          "length_of_stay",
          "length_of_stay",
          "length_of_stay",
          "length_of_stay",
          "length_of_stay",
          "length_of_stay",
          "length_of_stay",
          "length_of_stay",
          "length_of_stay",
          "length_of_stay",
          "length_of_stay",
          "length_of_stay",
          "length_of_stay",
          "length_of_stay",
          "length_of_stay",
          "length_of_stay",
          "length_of_stay",
          "length_of_stay",
          "length_of_stay",
          "length_of_stay",
          "length_of_stay",
          "length_of_stay",
          "length_of_stay",
          "length_of_stay",
          "length_of_stay",
          "length_of_stay",
          "length_of_stay",
          "length_of_stay",
          "length_of_stay",
          "length_of_stay",
          "length_of_stay",
          "length_of_stay",
          "length_of_stay",
          "length_of_stay",
          "length_of_stay",
          "length_of_stay",
          "length_of_stay",
          "length_of_stay",
          "length_of_stay",
          "length_of_stay",
          "length_of_stay",
          "length_of_stay",
          "length_of_stay",
          "length_of_stay",
          "length_of_stay",
          "length_of_stay",
          "length_of_stay",
          "length_of_stay",
          "length_of_stay",
          "length_of_stay",
          "length_of_stay",
          "length_of_stay",
          "length_of_stay",
          "length_of_stay",
          "length_of_stay",
          "length_of_stay",
          "length_of_stay",
          "length_of_stay",
          "length_of_stay",
          "length_of_stay",
          "length_of_stay",
          "length_of_stay",
          "length_of_stay",
          "length_of_stay",
          "length_of_stay",
          "length_of_stay",
          "length_of_stay",
          "length_of_stay",
          "length_of_stay",
          "length_of_stay",
          "length_of_stay",
          "length_of_stay",
          "length_of_stay",
          "length_of_stay",
          "length_of_stay",
          "length_of_stay",
          "length_of_stay",
          "length_of_stay",
          "length_of_stay",
          "length_of_stay",
          "length_of_stay",
          "length_of_stay",
          "length_of_stay",
          "length_of_stay",
          "length_of_stay",
          "length_of_stay",
          "length_of_stay",
          "length_of_stay",
          "length_of_stay",
          "length_of_stay",
          "length_of_stay",
          "length_of_stay",
          "length_of_stay",
          "length_of_stay",
          "length_of_stay",
          "length_of_stay",
          "length_of_stay",
          "length_of_stay",
          "length_of_stay",
          "length_of_stay",
          "length_of_stay",
          "length_of_stay",
          "length_of_stay",
          "length_of_stay",
          "length_of_stay",
          "length_of_stay",
          "length_of_stay",
          "length_of_stay",
          "length_of_stay",
          "length_of_stay",
          "length_of_stay",
          "length_of_stay",
          "length_of_stay",
          "length_of_stay",
          "length_of_stay",
          "length_of_stay",
          "length_of_stay",
          "length_of_stay",
          "length_of_stay",
          "length_of_stay",
          "length_of_stay",
          "length_of_stay",
          "length_of_stay",
          "length_of_stay",
          "length_of_stay",
          "length_of_stay",
          "length_of_stay",
          "length_of_stay",
          "length_of_stay",
          "length_of_stay",
          "length_of_stay",
          "length_of_stay",
          "length_of_stay",
          "length_of_stay",
          "length_of_stay",
          "length_of_stay",
          "length_of_stay",
          "length_of_stay",
          "length_of_stay",
          "length_of_stay",
          "length_of_stay",
          "length_of_stay",
          "length_of_stay",
          "length_of_stay",
          "length_of_stay",
          "length_of_stay",
          "length_of_stay",
          "length_of_stay",
          "length_of_stay",
          "length_of_stay",
          "length_of_stay",
          "length_of_stay",
          "length_of_stay",
          "length_of_stay",
          "length_of_stay",
          "length_of_stay",
          "length_of_stay",
          "length_of_stay",
          "length_of_stay",
          "length_of_stay",
          "length_of_stay",
          "length_of_stay",
          "length_of_stay",
          "length_of_stay",
          "length_of_stay",
          "length_of_stay",
          "length_of_stay",
          "length_of_stay",
          "length_of_stay",
          "length_of_stay",
          "length_of_stay",
          "length_of_stay",
          "length_of_stay",
          "length_of_stay",
          "length_of_stay",
          "length_of_stay",
          "length_of_stay",
          "length_of_stay",
          "length_of_stay",
          "length_of_stay",
          "length_of_stay",
          "length_of_stay",
          "length_of_stay",
          "length_of_stay",
          "length_of_stay",
          "length_of_stay",
          "length_of_stay",
          "length_of_stay",
          "length_of_stay",
          "length_of_stay",
          "length_of_stay",
          "length_of_stay",
          "length_of_stay",
          "length_of_stay",
          "length_of_stay",
          "length_of_stay",
          "length_of_stay",
          "length_of_stay",
          "length_of_stay",
          "length_of_stay",
          "length_of_stay",
          "length_of_stay",
          "length_of_stay",
          "length_of_stay",
          "length_of_stay",
          "length_of_stay",
          "length_of_stay",
          "length_of_stay",
          "length_of_stay",
          "length_of_stay",
          "length_of_stay",
          "length_of_stay",
          "length_of_stay",
          "length_of_stay",
          "length_of_stay",
          "length_of_stay",
          "length_of_stay",
          "length_of_stay",
          "length_of_stay",
          "length_of_stay",
          "length_of_stay",
          "length_of_stay",
          "length_of_stay",
          "length_of_stay",
          "length_of_stay",
          "length_of_stay",
          "length_of_stay",
          "length_of_stay",
          "length_of_stay",
          "length_of_stay",
          "length_of_stay",
          "length_of_stay",
          "length_of_stay",
          "length_of_stay",
          "length_of_stay",
          "length_of_stay",
          "length_of_stay",
          "length_of_stay",
          "length_of_stay",
          "length_of_stay",
          "length_of_stay",
          "length_of_stay",
          "length_of_stay",
          "length_of_stay",
          "length_of_stay",
          "length_of_stay",
          "length_of_stay",
          "length_of_stay",
          "length_of_stay",
          "length_of_stay",
          "length_of_stay",
          "length_of_stay",
          "length_of_stay",
          "length_of_stay",
          "length_of_stay",
          "length_of_stay",
          "length_of_stay",
          "length_of_stay",
          "length_of_stay",
          "length_of_stay",
          "length_of_stay",
          "length_of_stay",
          "length_of_stay",
          "length_of_stay",
          "length_of_stay",
          "length_of_stay",
          "length_of_stay",
          "length_of_stay",
          "length_of_stay",
          "length_of_stay",
          "length_of_stay",
          "length_of_stay",
          "length_of_stay",
          "length_of_stay",
          "length_of_stay",
          "length_of_stay",
          "length_of_stay",
          "length_of_stay",
          "length_of_stay",
          "length_of_stay",
          "length_of_stay",
          "length_of_stay",
          "length_of_stay",
          "length_of_stay",
          "length_of_stay",
          "length_of_stay",
          "length_of_stay",
          "length_of_stay",
          "length_of_stay",
          "length_of_stay",
          "length_of_stay",
          "length_of_stay",
          "length_of_stay",
          "length_of_stay",
          "length_of_stay",
          "length_of_stay",
          "length_of_stay",
          "length_of_stay",
          "length_of_stay",
          "length_of_stay",
          "length_of_stay",
          "length_of_stay",
          "flight_hour",
          "flight_hour",
          "flight_hour",
          "flight_hour",
          "flight_hour",
          "flight_hour",
          "flight_hour",
          "flight_hour",
          "flight_hour",
          "flight_hour",
          "flight_hour",
          "flight_hour",
          "flight_hour",
          "flight_hour",
          "flight_hour",
          "flight_hour",
          "flight_hour",
          "flight_hour",
          "flight_hour",
          "flight_hour",
          "flight_hour",
          "flight_hour",
          "flight_hour",
          "flight_hour",
          "flight_day",
          "flight_day",
          "flight_day",
          "flight_day",
          "flight_day",
          "flight_day",
          "flight_day",
          "route",
          "route",
          "route",
          "route",
          "route",
          "route",
          "route",
          "route",
          "route",
          "route",
          "route",
          "route",
          "route",
          "route",
          "route",
          "route",
          "route",
          "route",
          "route",
          "route",
          "route",
          "route",
          "route",
          "route",
          "route",
          "route",
          "route",
          "route",
          "route",
          "route",
          "route",
          "route",
          "route",
          "route",
          "route",
          "route",
          "route",
          "route",
          "route",
          "route",
          "route",
          "route",
          "route",
          "route",
          "route",
          "route",
          "route",
          "route",
          "route",
          "route",
          "route",
          "route",
          "route",
          "route",
          "route",
          "route",
          "route",
          "route",
          "route",
          "route",
          "route",
          "route",
          "route",
          "route",
          "route",
          "route",
          "route",
          "route",
          "route",
          "route",
          "route",
          "route",
          "route",
          "route",
          "route",
          "route",
          "route",
          "route",
          "route",
          "route",
          "route",
          "route",
          "route",
          "route",
          "route",
          "route",
          "route",
          "route",
          "route",
          "route",
          "route",
          "route",
          "route",
          "route",
          "route",
          "route",
          "route",
          "route",
          "route",
          "route",
          "route",
          "route",
          "route",
          "route",
          "route",
          "route",
          "route",
          "route",
          "route",
          "route",
          "route",
          "route",
          "route",
          "route",
          "route",
          "route",
          "route",
          "route",
          "route",
          "route",
          "route",
          "route",
          "route",
          "route",
          "route",
          "route",
          "route",
          "route",
          "route",
          "route",
          "route",
          "route",
          "route",
          "route",
          "route",
          "route",
          "route",
          "route",
          "route",
          "route",
          "route",
          "route",
          "route",
          "route",
          "route",
          "route",
          "route",
          "route",
          "route",
          "route",
          "route",
          "route",
          "route",
          "route",
          "route",
          "route",
          "route",
          "route",
          "route",
          "route",
          "route",
          "route",
          "route",
          "route",
          "route",
          "route",
          "route",
          "route",
          "route",
          "route",
          "route",
          "route",
          "route",
          "route",
          "route",
          "route",
          "route",
          "route",
          "route",
          "route",
          "route",
          "route",
          "route",
          "route",
          "route",
          "route",
          "route",
          "route",
          "route",
          "route",
          "route",
          "route",
          "route",
          "route",
          "route",
          "route",
          "route",
          "route",
          "route",
          "route",
          "route",
          "route",
          "route",
          "route",
          "route",
          "route",
          "route",
          "route",
          "route",
          "route",
          "route",
          "route",
          "route",
          "route",
          "route",
          "route",
          "route",
          "route",
          "route",
          "route",
          "route",
          "route",
          "route",
          "route",
          "route",
          "route",
          "route",
          "route",
          "route",
          "route",
          "route",
          "route",
          "route",
          "route",
          "route",
          "route",
          "route",
          "route",
          "route",
          "route",
          "route",
          "route",
          "route",
          "route",
          "route",
          "route",
          "route",
          "route",
          "route",
          "route",
          "route",
          "route",
          "route",
          "route",
          "route",
          "route",
          "route",
          "route",
          "route",
          "route",
          "route",
          "route",
          "route",
          "route",
          "route",
          "route",
          "route",
          "route",
          "route",
          "route",
          "route",
          "route",
          "route",
          "route",
          "route",
          "route",
          "route",
          "route",
          "route",
          "route",
          "route",
          "route",
          "route",
          "route",
          "route",
          "route",
          "route",
          "route",
          "route",
          "route",
          "route",
          "route",
          "route",
          "route",
          "route",
          "route",
          "route",
          "route",
          "route",
          "route",
          "route",
          "route",
          "route",
          "route",
          "route",
          "route",
          "route",
          "route",
          "route",
          "route",
          "route",
          "route",
          "route",
          "route",
          "route",
          "route",
          "route",
          "route",
          "route",
          "route",
          "route",
          "route",
          "route",
          "route",
          "route",
          "route",
          "route",
          "route",
          "route",
          "route",
          "route",
          "route",
          "route",
          "route",
          "route",
          "route",
          "route",
          "route",
          "route",
          "route",
          "route",
          "route",
          "route",
          "route",
          "route",
          "route",
          "route",
          "route",
          "route",
          "route",
          "route",
          "route",
          "route",
          "route",
          "route",
          "route",
          "route",
          "route",
          "route",
          "route",
          "route",
          "route",
          "route",
          "route",
          "route",
          "route",
          "route",
          "route",
          "route",
          "route",
          "route",
          "route",
          "route",
          "route",
          "route",
          "route",
          "route",
          "route",
          "route",
          "route",
          "route",
          "route",
          "route",
          "route",
          "route",
          "route",
          "route",
          "route",
          "route",
          "route",
          "route",
          "route",
          "route",
          "route",
          "route",
          "route",
          "route",
          "route",
          "route",
          "route",
          "route",
          "route",
          "route",
          "route",
          "route",
          "route",
          "route",
          "route",
          "route",
          "route",
          "route",
          "route",
          "route",
          "route",
          "route",
          "route",
          "route",
          "route",
          "route",
          "route",
          "route",
          "route",
          "route",
          "route",
          "route",
          "route",
          "route",
          "route",
          "route",
          "route",
          "route",
          "route",
          "route",
          "route",
          "route",
          "route",
          "route",
          "route",
          "route",
          "route",
          "route",
          "route",
          "route",
          "route",
          "route",
          "route",
          "route",
          "route",
          "route",
          "route",
          "route",
          "route",
          "route",
          "route",
          "route",
          "route",
          "route",
          "route",
          "route",
          "route",
          "route",
          "route",
          "route",
          "route",
          "route",
          "route",
          "route",
          "route",
          "route",
          "route",
          "route",
          "route",
          "route",
          "route",
          "route",
          "route",
          "route",
          "route",
          "route",
          "route",
          "route",
          "route",
          "route",
          "route",
          "route",
          "route",
          "route",
          "route",
          "route",
          "route",
          "route",
          "route",
          "route",
          "route",
          "route",
          "route",
          "route",
          "route",
          "route",
          "route",
          "route",
          "route",
          "route",
          "route",
          "route",
          "route",
          "route",
          "route",
          "route",
          "route",
          "route",
          "route",
          "route",
          "route",
          "route",
          "route",
          "route",
          "route",
          "route",
          "route",
          "route",
          "route",
          "route",
          "route",
          "route",
          "route",
          "route",
          "route",
          "route",
          "route",
          "route",
          "route",
          "route",
          "route",
          "route",
          "route",
          "route",
          "route",
          "route",
          "route",
          "route",
          "route",
          "route",
          "route",
          "route",
          "route",
          "route",
          "route",
          "route",
          "route",
          "route",
          "route",
          "route",
          "route",
          "route",
          "route",
          "route",
          "route",
          "route",
          "route",
          "route",
          "route",
          "route",
          "route",
          "route",
          "route",
          "route",
          "route",
          "route",
          "route",
          "route",
          "route",
          "route",
          "route",
          "route",
          "route",
          "route",
          "route",
          "route",
          "route",
          "route",
          "route",
          "route",
          "route",
          "route",
          "route",
          "route",
          "route",
          "route",
          "route",
          "route",
          "route",
          "route",
          "route",
          "route",
          "route",
          "route",
          "route",
          "route",
          "route",
          "route",
          "route",
          "route",
          "route",
          "route",
          "route",
          "route",
          "route",
          "route",
          "route",
          "route",
          "route",
          "route",
          "route",
          "route",
          "route",
          "route",
          "route",
          "route",
          "route",
          "route",
          "route",
          "route",
          "route",
          "route",
          "route",
          "route",
          "route",
          "route",
          "route",
          "route",
          "route",
          "route",
          "route",
          "route",
          "route",
          "route",
          "route",
          "route",
          "route",
          "route",
          "route",
          "route",
          "route",
          "route",
          "route",
          "route",
          "route",
          "route",
          "route",
          "route",
          "route",
          "route",
          "route",
          "route",
          "route",
          "route",
          "route",
          "route",
          "route",
          "route",
          "route",
          "route",
          "route",
          "route",
          "route",
          "route",
          "route",
          "route",
          "route",
          "route",
          "route",
          "route",
          "route",
          "route",
          "route",
          "route",
          "route",
          "route",
          "route",
          "route",
          "route",
          "route",
          "route",
          "route",
          "route",
          "route",
          "route",
          "route",
          "route",
          "route",
          "route",
          "route",
          "route",
          "route",
          "route",
          "route",
          "route",
          "route",
          "route",
          "route",
          "route",
          "route",
          "route",
          "route",
          "route",
          "route",
          "route",
          "route",
          "route",
          "route",
          "route",
          "route",
          "route",
          "route",
          "route",
          "route",
          "route",
          "route",
          "route",
          "route",
          "route",
          "route",
          "route",
          "route",
          "route",
          "route",
          "route",
          "route",
          "route",
          "route",
          "route",
          "route",
          "route",
          "route",
          "route",
          "route",
          "route",
          "route",
          "route",
          "route",
          "route",
          "route",
          "route",
          "route",
          "route",
          "route",
          "route",
          "route",
          "route",
          "route",
          "route",
          "route",
          "route",
          "route",
          "route",
          "route",
          "route",
          "route",
          "route",
          "route",
          "route",
          "route",
          "route",
          "route",
          "route",
          "route",
          "route",
          "route",
          "route",
          "route",
          "route",
          "route",
          "route",
          "route",
          "route",
          "route",
          "route",
          "route",
          "route",
          "route",
          "route",
          "route",
          "route",
          "route",
          "route",
          "route",
          "route",
          "route",
          "route",
          "route",
          "route",
          "route",
          "route",
          "route",
          "route",
          "route",
          "route",
          "route",
          "booking_origin",
          "booking_origin",
          "booking_origin",
          "booking_origin",
          "booking_origin",
          "booking_origin",
          "booking_origin",
          "booking_origin",
          "booking_origin",
          "booking_origin",
          "booking_origin",
          "booking_origin",
          "booking_origin",
          "booking_origin",
          "booking_origin",
          "booking_origin",
          "booking_origin",
          "booking_origin",
          "booking_origin",
          "booking_origin",
          "booking_origin",
          "booking_origin",
          "booking_origin",
          "booking_origin",
          "booking_origin",
          "booking_origin",
          "booking_origin",
          "booking_origin",
          "booking_origin",
          "booking_origin",
          "booking_origin",
          "booking_origin",
          "booking_origin",
          "booking_origin",
          "booking_origin",
          "booking_origin",
          "booking_origin",
          "booking_origin",
          "booking_origin",
          "booking_origin",
          "booking_origin",
          "booking_origin",
          "booking_origin",
          "booking_origin",
          "booking_origin",
          "booking_origin",
          "booking_origin",
          "booking_origin",
          "booking_origin",
          "booking_origin",
          "booking_origin",
          "booking_origin",
          "booking_origin",
          "booking_origin",
          "booking_origin",
          "booking_origin",
          "booking_origin",
          "booking_origin",
          "booking_origin",
          "booking_origin",
          "booking_origin",
          "booking_origin",
          "booking_origin",
          "booking_origin",
          "booking_origin",
          "booking_origin",
          "booking_origin",
          "booking_origin",
          "booking_origin",
          "booking_origin",
          "booking_origin",
          "booking_origin",
          "booking_origin",
          "booking_origin",
          "booking_origin",
          "booking_origin",
          "booking_origin",
          "booking_origin",
          "booking_origin",
          "booking_origin",
          "booking_origin",
          "booking_origin",
          "booking_origin",
          "booking_origin",
          "booking_origin",
          "booking_origin",
          "booking_origin",
          "booking_origin",
          "booking_origin",
          "booking_origin",
          "booking_origin",
          "booking_origin",
          "booking_origin",
          "booking_origin",
          "booking_origin",
          "booking_origin",
          "booking_origin",
          "booking_origin",
          "booking_origin",
          "booking_origin",
          "booking_origin",
          "booking_origin",
          "booking_origin",
          "booking_origin",
          "wants_extra_baggage",
          "wants_extra_baggage",
          "wants_preferred_seat",
          "wants_preferred_seat",
          "wants_in_flight_meals",
          "wants_in_flight_meals",
          "flight_duration",
          "flight_duration",
          "flight_duration",
          "flight_duration",
          "flight_duration",
          "flight_duration",
          "flight_duration",
          "flight_duration",
          "flight_duration",
          "flight_duration",
          "flight_duration",
          "flight_duration",
          "flight_duration",
          "flight_duration",
          "flight_duration",
          "flight_duration",
          "flight_duration",
          "flight_duration",
          "flight_duration",
          "flight_duration",
          "flight_duration",
          "flight_day_numerical",
          "flight_day_numerical",
          "flight_day_numerical",
          "flight_day_numerical",
          "flight_day_numerical",
          "flight_day_numerical",
          "flight_day_numerical",
          "lead_bins",
          "lead_bins",
          "lead_bins",
          "lead_bins",
          "lead_bins",
          "lead_bins",
          "stay_bin",
          "stay_bin",
          "stay_bin",
          "stay_bin",
          "stay_bin",
          "stay_bin",
          "daypart",
          "daypart",
          "daypart",
          "daypart"
         ],
         "xaxis": "x",
         "y": {
          "bdata": "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",
          "dtype": "f8"
         },
         "yaxis": "y"
        }
       ],
       "layout": {
        "barmode": "relative",
        "legend": {
         "tracegroupgap": 0
        },
        "margin": {
         "t": 60
        },
        "template": {
         "data": {
          "bar": [
           {
            "error_x": {
             "color": "#2a3f5f"
            },
            "error_y": {
             "color": "#2a3f5f"
            },
            "marker": {
             "line": {
              "color": "#E5ECF6",
              "width": 0.5
             },
             "pattern": {
              "fillmode": "overlay",
              "size": 10,
              "solidity": 0.2
             }
            },
            "type": "bar"
           }
          ],
          "barpolar": [
           {
            "marker": {
             "line": {
              "color": "#E5ECF6",
              "width": 0.5
             },
             "pattern": {
              "fillmode": "overlay",
              "size": 10,
              "solidity": 0.2
             }
            },
            "type": "barpolar"
           }
          ],
          "carpet": [
           {
            "aaxis": {
             "endlinecolor": "#2a3f5f",
             "gridcolor": "white",
             "linecolor": "white",
             "minorgridcolor": "white",
             "startlinecolor": "#2a3f5f"
            },
            "baxis": {
             "endlinecolor": "#2a3f5f",
             "gridcolor": "white",
             "linecolor": "white",
             "minorgridcolor": "white",
             "startlinecolor": "#2a3f5f"
            },
            "type": "carpet"
           }
          ],
          "choropleth": [
           {
            "colorbar": {
             "outlinewidth": 0,
             "ticks": ""
            },
            "type": "choropleth"
           }
          ],
          "contour": [
           {
            "colorbar": {
             "outlinewidth": 0,
             "ticks": ""
            },
            "colorscale": [
             [
              0,
              "#0d0887"
             ],
             [
              0.1111111111111111,
              "#46039f"
             ],
             [
              0.2222222222222222,
              "#7201a8"
             ],
             [
              0.3333333333333333,
              "#9c179e"
             ],
             [
              0.4444444444444444,
              "#bd3786"
             ],
             [
              0.5555555555555556,
              "#d8576b"
             ],
             [
              0.6666666666666666,
              "#ed7953"
             ],
             [
              0.7777777777777778,
              "#fb9f3a"
             ],
             [
              0.8888888888888888,
              "#fdca26"
             ],
             [
              1,
              "#f0f921"
             ]
            ],
            "type": "contour"
           }
          ],
          "contourcarpet": [
           {
            "colorbar": {
             "outlinewidth": 0,
             "ticks": ""
            },
            "type": "contourcarpet"
           }
          ],
          "heatmap": [
           {
            "colorbar": {
             "outlinewidth": 0,
             "ticks": ""
            },
            "colorscale": [
             [
              0,
              "#0d0887"
             ],
             [
              0.1111111111111111,
              "#46039f"
             ],
             [
              0.2222222222222222,
              "#7201a8"
             ],
             [
              0.3333333333333333,
              "#9c179e"
             ],
             [
              0.4444444444444444,
              "#bd3786"
             ],
             [
              0.5555555555555556,
              "#d8576b"
             ],
             [
              0.6666666666666666,
              "#ed7953"
             ],
             [
              0.7777777777777778,
              "#fb9f3a"
             ],
             [
              0.8888888888888888,
              "#fdca26"
             ],
             [
              1,
              "#f0f921"
             ]
            ],
            "type": "heatmap"
           }
          ],
          "histogram": [
           {
            "marker": {
             "pattern": {
              "fillmode": "overlay",
              "size": 10,
              "solidity": 0.2
             }
            },
            "type": "histogram"
           }
          ],
          "histogram2d": [
           {
            "colorbar": {
             "outlinewidth": 0,
             "ticks": ""
            },
            "colorscale": [
             [
              0,
              "#0d0887"
             ],
             [
              0.1111111111111111,
              "#46039f"
             ],
             [
              0.2222222222222222,
              "#7201a8"
             ],
             [
              0.3333333333333333,
              "#9c179e"
             ],
             [
              0.4444444444444444,
              "#bd3786"
             ],
             [
              0.5555555555555556,
              "#d8576b"
             ],
             [
              0.6666666666666666,
              "#ed7953"
             ],
             [
              0.7777777777777778,
              "#fb9f3a"
             ],
             [
              0.8888888888888888,
              "#fdca26"
             ],
             [
              1,
              "#f0f921"
             ]
            ],
            "type": "histogram2d"
           }
          ],
          "histogram2dcontour": [
           {
            "colorbar": {
             "outlinewidth": 0,
             "ticks": ""
            },
            "colorscale": [
             [
              0,
              "#0d0887"
             ],
             [
              0.1111111111111111,
              "#46039f"
             ],
             [
              0.2222222222222222,
              "#7201a8"
             ],
             [
              0.3333333333333333,
              "#9c179e"
             ],
             [
              0.4444444444444444,
              "#bd3786"
             ],
             [
              0.5555555555555556,
              "#d8576b"
             ],
             [
              0.6666666666666666,
              "#ed7953"
             ],
             [
              0.7777777777777778,
              "#fb9f3a"
             ],
             [
              0.8888888888888888,
              "#fdca26"
             ],
             [
              1,
              "#f0f921"
             ]
            ],
            "type": "histogram2dcontour"
           }
          ],
          "mesh3d": [
           {
            "colorbar": {
             "outlinewidth": 0,
             "ticks": ""
            },
            "type": "mesh3d"
           }
          ],
          "parcoords": [
           {
            "line": {
             "colorbar": {
              "outlinewidth": 0,
              "ticks": ""
             }
            },
            "type": "parcoords"
           }
          ],
          "pie": [
           {
            "automargin": true,
            "type": "pie"
           }
          ],
          "scatter": [
           {
            "fillpattern": {
             "fillmode": "overlay",
             "size": 10,
             "solidity": 0.2
            },
            "type": "scatter"
           }
          ],
          "scatter3d": [
           {
            "line": {
             "colorbar": {
              "outlinewidth": 0,
              "ticks": ""
             }
            },
            "marker": {
             "colorbar": {
              "outlinewidth": 0,
              "ticks": ""
             }
            },
            "type": "scatter3d"
           }
          ],
          "scattercarpet": [
           {
            "marker": {
             "colorbar": {
              "outlinewidth": 0,
              "ticks": ""
             }
            },
            "type": "scattercarpet"
           }
          ],
          "scattergeo": [
           {
            "marker": {
             "colorbar": {
              "outlinewidth": 0,
              "ticks": ""
             }
            },
            "type": "scattergeo"
           }
          ],
          "scattergl": [
           {
            "marker": {
             "colorbar": {
              "outlinewidth": 0,
              "ticks": ""
             }
            },
            "type": "scattergl"
           }
          ],
          "scattermap": [
           {
            "marker": {
             "colorbar": {
              "outlinewidth": 0,
              "ticks": ""
             }
            },
            "type": "scattermap"
           }
          ],
          "scattermapbox": [
           {
            "marker": {
             "colorbar": {
              "outlinewidth": 0,
              "ticks": ""
             }
            },
            "type": "scattermapbox"
           }
          ],
          "scatterpolar": [
           {
            "marker": {
             "colorbar": {
              "outlinewidth": 0,
              "ticks": ""
             }
            },
            "type": "scatterpolar"
           }
          ],
          "scatterpolargl": [
           {
            "marker": {
             "colorbar": {
              "outlinewidth": 0,
              "ticks": ""
             }
            },
            "type": "scatterpolargl"
           }
          ],
          "scatterternary": [
           {
            "marker": {
             "colorbar": {
              "outlinewidth": 0,
              "ticks": ""
             }
            },
            "type": "scatterternary"
           }
          ],
          "surface": [
           {
            "colorbar": {
             "outlinewidth": 0,
             "ticks": ""
            },
            "colorscale": [
             [
              0,
              "#0d0887"
             ],
             [
              0.1111111111111111,
              "#46039f"
             ],
             [
              0.2222222222222222,
              "#7201a8"
             ],
             [
              0.3333333333333333,
              "#9c179e"
             ],
             [
              0.4444444444444444,
              "#bd3786"
             ],
             [
              0.5555555555555556,
              "#d8576b"
             ],
             [
              0.6666666666666666,
              "#ed7953"
             ],
             [
              0.7777777777777778,
              "#fb9f3a"
             ],
             [
              0.8888888888888888,
              "#fdca26"
             ],
             [
              1,
              "#f0f921"
             ]
            ],
            "type": "surface"
           }
          ],
          "table": [
           {
            "cells": {
             "fill": {
              "color": "#EBF0F8"
             },
             "line": {
              "color": "white"
             }
            },
            "header": {
             "fill": {
              "color": "#C8D4E3"
             },
             "line": {
              "color": "white"
             }
            },
            "type": "table"
           }
          ]
         },
         "layout": {
          "annotationdefaults": {
           "arrowcolor": "#2a3f5f",
           "arrowhead": 0,
           "arrowwidth": 1
          },
          "autotypenumbers": "strict",
          "coloraxis": {
           "colorbar": {
            "outlinewidth": 0,
            "ticks": ""
           }
          },
          "colorscale": {
           "diverging": [
            [
             0,
             "#8e0152"
            ],
            [
             0.1,
             "#c51b7d"
            ],
            [
             0.2,
             "#de77ae"
            ],
            [
             0.3,
             "#f1b6da"
            ],
            [
             0.4,
             "#fde0ef"
            ],
            [
             0.5,
             "#f7f7f7"
            ],
            [
             0.6,
             "#e6f5d0"
            ],
            [
             0.7,
             "#b8e186"
            ],
            [
             0.8,
             "#7fbc41"
            ],
            [
             0.9,
             "#4d9221"
            ],
            [
             1,
             "#276419"
            ]
           ],
           "sequential": [
            [
             0,
             "#0d0887"
            ],
            [
             0.1111111111111111,
             "#46039f"
            ],
            [
             0.2222222222222222,
             "#7201a8"
            ],
            [
             0.3333333333333333,
             "#9c179e"
            ],
            [
             0.4444444444444444,
             "#bd3786"
            ],
            [
             0.5555555555555556,
             "#d8576b"
            ],
            [
             0.6666666666666666,
             "#ed7953"
            ],
            [
             0.7777777777777778,
             "#fb9f3a"
            ],
            [
             0.8888888888888888,
             "#fdca26"
            ],
            [
             1,
             "#f0f921"
            ]
           ],
           "sequentialminus": [
            [
             0,
             "#0d0887"
            ],
            [
             0.1111111111111111,
             "#46039f"
            ],
            [
             0.2222222222222222,
             "#7201a8"
            ],
            [
             0.3333333333333333,
             "#9c179e"
            ],
            [
             0.4444444444444444,
             "#bd3786"
            ],
            [
             0.5555555555555556,
             "#d8576b"
            ],
            [
             0.6666666666666666,
             "#ed7953"
            ],
            [
             0.7777777777777778,
             "#fb9f3a"
            ],
            [
             0.8888888888888888,
             "#fdca26"
            ],
            [
             1,
             "#f0f921"
            ]
           ]
          },
          "colorway": [
           "#636efa",
           "#EF553B",
           "#00cc96",
           "#ab63fa",
           "#FFA15A",
           "#19d3f3",
           "#FF6692",
           "#B6E880",
           "#FF97FF",
           "#FECB52"
          ],
          "font": {
           "color": "#2a3f5f"
          },
          "geo": {
           "bgcolor": "white",
           "lakecolor": "white",
           "landcolor": "#E5ECF6",
           "showlakes": true,
           "showland": true,
           "subunitcolor": "white"
          },
          "hoverlabel": {
           "align": "left"
          },
          "hovermode": "closest",
          "mapbox": {
           "style": "light"
          },
          "paper_bgcolor": "white",
          "plot_bgcolor": "#E5ECF6",
          "polar": {
           "angularaxis": {
            "gridcolor": "white",
            "linecolor": "white",
            "ticks": ""
           },
           "bgcolor": "#E5ECF6",
           "radialaxis": {
            "gridcolor": "white",
            "linecolor": "white",
            "ticks": ""
           }
          },
          "scene": {
           "xaxis": {
            "backgroundcolor": "#E5ECF6",
            "gridcolor": "white",
            "gridwidth": 2,
            "linecolor": "white",
            "showbackground": true,
            "ticks": "",
            "zerolinecolor": "white"
           },
           "yaxis": {
            "backgroundcolor": "#E5ECF6",
            "gridcolor": "white",
            "gridwidth": 2,
            "linecolor": "white",
            "showbackground": true,
            "ticks": "",
            "zerolinecolor": "white"
           },
           "zaxis": {
            "backgroundcolor": "#E5ECF6",
            "gridcolor": "white",
            "gridwidth": 2,
            "linecolor": "white",
            "showbackground": true,
            "ticks": "",
            "zerolinecolor": "white"
           }
          },
          "shapedefaults": {
           "line": {
            "color": "#2a3f5f"
           }
          },
          "ternary": {
           "aaxis": {
            "gridcolor": "white",
            "linecolor": "white",
            "ticks": ""
           },
           "baxis": {
            "gridcolor": "white",
            "linecolor": "white",
            "ticks": ""
           },
           "bgcolor": "#E5ECF6",
           "caxis": {
            "gridcolor": "white",
            "linecolor": "white",
            "ticks": ""
           }
          },
          "title": {
           "x": 0.05
          },
          "xaxis": {
           "automargin": true,
           "gridcolor": "white",
           "linecolor": "white",
           "ticks": "",
           "title": {
            "standoff": 15
           },
           "zerolinecolor": "white",
           "zerolinewidth": 2
          },
          "yaxis": {
           "automargin": true,
           "gridcolor": "white",
           "linecolor": "white",
           "ticks": "",
           "title": {
            "standoff": 15
           },
           "zerolinecolor": "white",
           "zerolinewidth": 2
          }
         }
        },
        "xaxis": {
         "anchor": "y",
         "domain": [
          0,
          1
         ],
         "title": {
          "text": "feature"
         }
        },
        "yaxis": {
         "anchor": "x",
         "domain": [
          0,
          1
         ],
         "title": {
          "text": "complete_%"
         }
        }
       }
      }
     },
     "metadata": {},
     "output_type": "display_data"
    },
    {
     "data": {
      "application/vnd.plotly.v1+json": {
       "config": {
        "plotlyServerURL": "https://plot.ly"
       },
       "data": [
        {
         "hovertemplate": "feature=%{x}<br>not_complete_%=%{y}<extra></extra>",
         "legendgroup": "",
         "marker": {
          "color": "#636efa",
          "pattern": {
           "shape": ""
          }
         },
         "name": "",
         "orientation": "v",
         "showlegend": false,
         "textposition": "auto",
         "type": "bar",
         "x": [
          "num_passengers",
          "num_passengers",
          "num_passengers",
          "num_passengers",
          "num_passengers",
          "num_passengers",
          "num_passengers",
          "num_passengers",
          "num_passengers",
          "sales_channel",
          "sales_channel",
          "trip_type",
          "trip_type",
          "trip_type",
          "purchase_lead",
          "purchase_lead",
          "purchase_lead",
          "purchase_lead",
          "purchase_lead",
          "purchase_lead",
          "purchase_lead",
          "purchase_lead",
          "purchase_lead",
          "purchase_lead",
          "purchase_lead",
          "purchase_lead",
          "purchase_lead",
          "purchase_lead",
          "purchase_lead",
          "purchase_lead",
          "purchase_lead",
          "purchase_lead",
          "purchase_lead",
          "purchase_lead",
          "purchase_lead",
          "purchase_lead",
          "purchase_lead",
          "purchase_lead",
          "purchase_lead",
          "purchase_lead",
          "purchase_lead",
          "purchase_lead",
          "purchase_lead",
          "purchase_lead",
          "purchase_lead",
          "purchase_lead",
          "purchase_lead",
          "purchase_lead",
          "purchase_lead",
          "purchase_lead",
          "purchase_lead",
          "purchase_lead",
          "purchase_lead",
          "purchase_lead",
          "purchase_lead",
          "purchase_lead",
          "purchase_lead",
          "purchase_lead",
          "purchase_lead",
          "purchase_lead",
          "purchase_lead",
          "purchase_lead",
          "purchase_lead",
          "purchase_lead",
          "purchase_lead",
          "purchase_lead",
          "purchase_lead",
          "purchase_lead",
          "purchase_lead",
          "purchase_lead",
          "purchase_lead",
          "purchase_lead",
          "purchase_lead",
          "purchase_lead",
          "purchase_lead",
          "purchase_lead",
          "purchase_lead",
          "purchase_lead",
          "purchase_lead",
          "purchase_lead",
          "purchase_lead",
          "purchase_lead",
          "purchase_lead",
          "purchase_lead",
          "purchase_lead",
          "purchase_lead",
          "purchase_lead",
          "purchase_lead",
          "purchase_lead",
          "purchase_lead",
          "purchase_lead",
          "purchase_lead",
          "purchase_lead",
          "purchase_lead",
          "purchase_lead",
          "purchase_lead",
          "purchase_lead",
          "purchase_lead",
          "purchase_lead",
          "purchase_lead",
          "purchase_lead",
          "purchase_lead",
          "purchase_lead",
          "purchase_lead",
          "purchase_lead",
          "purchase_lead",
          "purchase_lead",
          "purchase_lead",
          "purchase_lead",
          "purchase_lead",
          "purchase_lead",
          "purchase_lead",
          "purchase_lead",
          "purchase_lead",
          "purchase_lead",
          "purchase_lead",
          "purchase_lead",
          "purchase_lead",
          "purchase_lead",
          "purchase_lead",
          "purchase_lead",
          "purchase_lead",
          "purchase_lead",
          "purchase_lead",
          "purchase_lead",
          "purchase_lead",
          "purchase_lead",
          "purchase_lead",
          "purchase_lead",
          "purchase_lead",
          "purchase_lead",
          "purchase_lead",
          "purchase_lead",
          "purchase_lead",
          "purchase_lead",
          "purchase_lead",
          "purchase_lead",
          "purchase_lead",
          "purchase_lead",
          "purchase_lead",
          "purchase_lead",
          "purchase_lead",
          "purchase_lead",
          "purchase_lead",
          "purchase_lead",
          "purchase_lead",
          "purchase_lead",
          "purchase_lead",
          "purchase_lead",
          "purchase_lead",
          "purchase_lead",
          "purchase_lead",
          "purchase_lead",
          "purchase_lead",
          "purchase_lead",
          "purchase_lead",
          "purchase_lead",
          "purchase_lead",
          "purchase_lead",
          "purchase_lead",
          "purchase_lead",
          "purchase_lead",
          "purchase_lead",
          "purchase_lead",
          "purchase_lead",
          "purchase_lead",
          "purchase_lead",
          "purchase_lead",
          "purchase_lead",
          "purchase_lead",
          "purchase_lead",
          "purchase_lead",
          "purchase_lead",
          "purchase_lead",
          "purchase_lead",
          "purchase_lead",
          "purchase_lead",
          "purchase_lead",
          "purchase_lead",
          "purchase_lead",
          "purchase_lead",
          "purchase_lead",
          "purchase_lead",
          "purchase_lead",
          "purchase_lead",
          "purchase_lead",
          "purchase_lead",
          "purchase_lead",
          "purchase_lead",
          "purchase_lead",
          "purchase_lead",
          "purchase_lead",
          "purchase_lead",
          "purchase_lead",
          "purchase_lead",
          "purchase_lead",
          "purchase_lead",
          "purchase_lead",
          "purchase_lead",
          "purchase_lead",
          "purchase_lead",
          "purchase_lead",
          "purchase_lead",
          "purchase_lead",
          "purchase_lead",
          "purchase_lead",
          "purchase_lead",
          "purchase_lead",
          "purchase_lead",
          "purchase_lead",
          "purchase_lead",
          "purchase_lead",
          "purchase_lead",
          "purchase_lead",
          "purchase_lead",
          "purchase_lead",
          "purchase_lead",
          "purchase_lead",
          "purchase_lead",
          "purchase_lead",
          "purchase_lead",
          "purchase_lead",
          "purchase_lead",
          "purchase_lead",
          "purchase_lead",
          "purchase_lead",
          "purchase_lead",
          "purchase_lead",
          "purchase_lead",
          "purchase_lead",
          "purchase_lead",
          "purchase_lead",
          "purchase_lead",
          "purchase_lead",
          "purchase_lead",
          "purchase_lead",
          "purchase_lead",
          "purchase_lead",
          "purchase_lead",
          "purchase_lead",
          "purchase_lead",
          "purchase_lead",
          "purchase_lead",
          "purchase_lead",
          "purchase_lead",
          "purchase_lead",
          "purchase_lead",
          "purchase_lead",
          "purchase_lead",
          "purchase_lead",
          "purchase_lead",
          "purchase_lead",
          "purchase_lead",
          "purchase_lead",
          "purchase_lead",
          "purchase_lead",
          "purchase_lead",
          "purchase_lead",
          "purchase_lead",
          "purchase_lead",
          "purchase_lead",
          "purchase_lead",
          "purchase_lead",
          "purchase_lead",
          "purchase_lead",
          "purchase_lead",
          "purchase_lead",
          "purchase_lead",
          "purchase_lead",
          "purchase_lead",
          "purchase_lead",
          "purchase_lead",
          "purchase_lead",
          "purchase_lead",
          "purchase_lead",
          "purchase_lead",
          "purchase_lead",
          "purchase_lead",
          "purchase_lead",
          "purchase_lead",
          "purchase_lead",
          "purchase_lead",
          "purchase_lead",
          "purchase_lead",
          "purchase_lead",
          "purchase_lead",
          "purchase_lead",
          "purchase_lead",
          "purchase_lead",
          "purchase_lead",
          "purchase_lead",
          "purchase_lead",
          "purchase_lead",
          "purchase_lead",
          "purchase_lead",
          "purchase_lead",
          "purchase_lead",
          "purchase_lead",
          "purchase_lead",
          "purchase_lead",
          "purchase_lead",
          "purchase_lead",
          "purchase_lead",
          "purchase_lead",
          "purchase_lead",
          "purchase_lead",
          "purchase_lead",
          "purchase_lead",
          "purchase_lead",
          "purchase_lead",
          "purchase_lead",
          "purchase_lead",
          "purchase_lead",
          "purchase_lead",
          "purchase_lead",
          "purchase_lead",
          "purchase_lead",
          "purchase_lead",
          "purchase_lead",
          "purchase_lead",
          "purchase_lead",
          "purchase_lead",
          "purchase_lead",
          "purchase_lead",
          "purchase_lead",
          "purchase_lead",
          "purchase_lead",
          "purchase_lead",
          "purchase_lead",
          "purchase_lead",
          "purchase_lead",
          "purchase_lead",
          "purchase_lead",
          "purchase_lead",
          "purchase_lead",
          "purchase_lead",
          "purchase_lead",
          "purchase_lead",
          "purchase_lead",
          "purchase_lead",
          "purchase_lead",
          "purchase_lead",
          "purchase_lead",
          "purchase_lead",
          "purchase_lead",
          "purchase_lead",
          "purchase_lead",
          "purchase_lead",
          "purchase_lead",
          "purchase_lead",
          "purchase_lead",
          "purchase_lead",
          "purchase_lead",
          "purchase_lead",
          "purchase_lead",
          "purchase_lead",
          "purchase_lead",
          "purchase_lead",
          "purchase_lead",
          "purchase_lead",
          "purchase_lead",
          "purchase_lead",
          "purchase_lead",
          "purchase_lead",
          "purchase_lead",
          "purchase_lead",
          "purchase_lead",
          "purchase_lead",
          "purchase_lead",
          "purchase_lead",
          "purchase_lead",
          "purchase_lead",
          "purchase_lead",
          "purchase_lead",
          "purchase_lead",
          "purchase_lead",
          "purchase_lead",
          "purchase_lead",
          "purchase_lead",
          "purchase_lead",
          "purchase_lead",
          "purchase_lead",
          "purchase_lead",
          "purchase_lead",
          "purchase_lead",
          "purchase_lead",
          "purchase_lead",
          "purchase_lead",
          "purchase_lead",
          "purchase_lead",
          "purchase_lead",
          "purchase_lead",
          "purchase_lead",
          "purchase_lead",
          "purchase_lead",
          "purchase_lead",
          "purchase_lead",
          "purchase_lead",
          "purchase_lead",
          "purchase_lead",
          "purchase_lead",
          "purchase_lead",
          "purchase_lead",
          "purchase_lead",
          "purchase_lead",
          "purchase_lead",
          "purchase_lead",
          "purchase_lead",
          "purchase_lead",
          "purchase_lead",
          "purchase_lead",
          "purchase_lead",
          "purchase_lead",
          "purchase_lead",
          "purchase_lead",
          "purchase_lead",
          "purchase_lead",
          "purchase_lead",
          "purchase_lead",
          "purchase_lead",
          "purchase_lead",
          "purchase_lead",
          "purchase_lead",
          "purchase_lead",
          "purchase_lead",
          "purchase_lead",
          "purchase_lead",
          "purchase_lead",
          "purchase_lead",
          "purchase_lead",
          "purchase_lead",
          "purchase_lead",
          "purchase_lead",
          "purchase_lead",
          "purchase_lead",
          "purchase_lead",
          "purchase_lead",
          "purchase_lead",
          "purchase_lead",
          "purchase_lead",
          "purchase_lead",
          "purchase_lead",
          "purchase_lead",
          "purchase_lead",
          "purchase_lead",
          "purchase_lead",
          "purchase_lead",
          "purchase_lead",
          "purchase_lead",
          "purchase_lead",
          "purchase_lead",
          "purchase_lead",
          "purchase_lead",
          "purchase_lead",
          "purchase_lead",
          "purchase_lead",
          "purchase_lead",
          "purchase_lead",
          "purchase_lead",
          "purchase_lead",
          "purchase_lead",
          "purchase_lead",
          "purchase_lead",
          "purchase_lead",
          "purchase_lead",
          "purchase_lead",
          "purchase_lead",
          "purchase_lead",
          "purchase_lead",
          "purchase_lead",
          "purchase_lead",
          "purchase_lead",
          "purchase_lead",
          "purchase_lead",
          "purchase_lead",
          "purchase_lead",
          "purchase_lead",
          "purchase_lead",
          "purchase_lead",
          "purchase_lead",
          "purchase_lead",
          "purchase_lead",
          "purchase_lead",
          "purchase_lead",
          "length_of_stay",
          "length_of_stay",
          "length_of_stay",
          "length_of_stay",
          "length_of_stay",
          "length_of_stay",
          "length_of_stay",
          "length_of_stay",
          "length_of_stay",
          "length_of_stay",
          "length_of_stay",
          "length_of_stay",
          "length_of_stay",
          "length_of_stay",
          "length_of_stay",
          "length_of_stay",
          "length_of_stay",
          "length_of_stay",
          "length_of_stay",
          "length_of_stay",
          "length_of_stay",
          "length_of_stay",
          "length_of_stay",
          "length_of_stay",
          "length_of_stay",
          "length_of_stay",
          "length_of_stay",
          "length_of_stay",
          "length_of_stay",
          "length_of_stay",
          "length_of_stay",
          "length_of_stay",
          "length_of_stay",
          "length_of_stay",
          "length_of_stay",
          "length_of_stay",
          "length_of_stay",
          "length_of_stay",
          "length_of_stay",
          "length_of_stay",
          "length_of_stay",
          "length_of_stay",
          "length_of_stay",
          "length_of_stay",
          "length_of_stay",
          "length_of_stay",
          "length_of_stay",
          "length_of_stay",
          "length_of_stay",
          "length_of_stay",
          "length_of_stay",
          "length_of_stay",
          "length_of_stay",
          "length_of_stay",
          "length_of_stay",
          "length_of_stay",
          "length_of_stay",
          "length_of_stay",
          "length_of_stay",
          "length_of_stay",
          "length_of_stay",
          "length_of_stay",
          "length_of_stay",
          "length_of_stay",
          "length_of_stay",
          "length_of_stay",
          "length_of_stay",
          "length_of_stay",
          "length_of_stay",
          "length_of_stay",
          "length_of_stay",
          "length_of_stay",
          "length_of_stay",
          "length_of_stay",
          "length_of_stay",
          "length_of_stay",
          "length_of_stay",
          "length_of_stay",
          "length_of_stay",
          "length_of_stay",
          "length_of_stay",
          "length_of_stay",
          "length_of_stay",
          "length_of_stay",
          "length_of_stay",
          "length_of_stay",
          "length_of_stay",
          "length_of_stay",
          "length_of_stay",
          "length_of_stay",
          "length_of_stay",
          "length_of_stay",
          "length_of_stay",
          "length_of_stay",
          "length_of_stay",
          "length_of_stay",
          "length_of_stay",
          "length_of_stay",
          "length_of_stay",
          "length_of_stay",
          "length_of_stay",
          "length_of_stay",
          "length_of_stay",
          "length_of_stay",
          "length_of_stay",
          "length_of_stay",
          "length_of_stay",
          "length_of_stay",
          "length_of_stay",
          "length_of_stay",
          "length_of_stay",
          "length_of_stay",
          "length_of_stay",
          "length_of_stay",
          "length_of_stay",
          "length_of_stay",
          "length_of_stay",
          "length_of_stay",
          "length_of_stay",
          "length_of_stay",
          "length_of_stay",
          "length_of_stay",
          "length_of_stay",
          "length_of_stay",
          "length_of_stay",
          "length_of_stay",
          "length_of_stay",
          "length_of_stay",
          "length_of_stay",
          "length_of_stay",
          "length_of_stay",
          "length_of_stay",
          "length_of_stay",
          "length_of_stay",
          "length_of_stay",
          "length_of_stay",
          "length_of_stay",
          "length_of_stay",
          "length_of_stay",
          "length_of_stay",
          "length_of_stay",
          "length_of_stay",
          "length_of_stay",
          "length_of_stay",
          "length_of_stay",
          "length_of_stay",
          "length_of_stay",
          "length_of_stay",
          "length_of_stay",
          "length_of_stay",
          "length_of_stay",
          "length_of_stay",
          "length_of_stay",
          "length_of_stay",
          "length_of_stay",
          "length_of_stay",
          "length_of_stay",
          "length_of_stay",
          "length_of_stay",
          "length_of_stay",
          "length_of_stay",
          "length_of_stay",
          "length_of_stay",
          "length_of_stay",
          "length_of_stay",
          "length_of_stay",
          "length_of_stay",
          "length_of_stay",
          "length_of_stay",
          "length_of_stay",
          "length_of_stay",
          "length_of_stay",
          "length_of_stay",
          "length_of_stay",
          "length_of_stay",
          "length_of_stay",
          "length_of_stay",
          "length_of_stay",
          "length_of_stay",
          "length_of_stay",
          "length_of_stay",
          "length_of_stay",
          "length_of_stay",
          "length_of_stay",
          "length_of_stay",
          "length_of_stay",
          "length_of_stay",
          "length_of_stay",
          "length_of_stay",
          "length_of_stay",
          "length_of_stay",
          "length_of_stay",
          "length_of_stay",
          "length_of_stay",
          "length_of_stay",
          "length_of_stay",
          "length_of_stay",
          "length_of_stay",
          "length_of_stay",
          "length_of_stay",
          "length_of_stay",
          "length_of_stay",
          "length_of_stay",
          "length_of_stay",
          "length_of_stay",
          "length_of_stay",
          "length_of_stay",
          "length_of_stay",
          "length_of_stay",
          "length_of_stay",
          "length_of_stay",
          "length_of_stay",
          "length_of_stay",
          "length_of_stay",
          "length_of_stay",
          "length_of_stay",
          "length_of_stay",
          "length_of_stay",
          "length_of_stay",
          "length_of_stay",
          "length_of_stay",
          "length_of_stay",
          "length_of_stay",
          "length_of_stay",
          "length_of_stay",
          "length_of_stay",
          "length_of_stay",
          "length_of_stay",
          "length_of_stay",
          "length_of_stay",
          "length_of_stay",
          "length_of_stay",
          "length_of_stay",
          "length_of_stay",
          "length_of_stay",
          "length_of_stay",
          "length_of_stay",
          "length_of_stay",
          "length_of_stay",
          "length_of_stay",
          "length_of_stay",
          "length_of_stay",
          "length_of_stay",
          "length_of_stay",
          "length_of_stay",
          "length_of_stay",
          "length_of_stay",
          "length_of_stay",
          "length_of_stay",
          "length_of_stay",
          "length_of_stay",
          "length_of_stay",
          "length_of_stay",
          "length_of_stay",
          "length_of_stay",
          "length_of_stay",
          "length_of_stay",
          "length_of_stay",
          "length_of_stay",
          "length_of_stay",
          "length_of_stay",
          "length_of_stay",
          "length_of_stay",
          "length_of_stay",
          "length_of_stay",
          "length_of_stay",
          "length_of_stay",
          "length_of_stay",
          "length_of_stay",
          "length_of_stay",
          "length_of_stay",
          "length_of_stay",
          "length_of_stay",
          "length_of_stay",
          "length_of_stay",
          "length_of_stay",
          "length_of_stay",
          "length_of_stay",
          "length_of_stay",
          "length_of_stay",
          "length_of_stay",
          "length_of_stay",
          "length_of_stay",
          "length_of_stay",
          "length_of_stay",
          "length_of_stay",
          "length_of_stay",
          "length_of_stay",
          "length_of_stay",
          "length_of_stay",
          "length_of_stay",
          "length_of_stay",
          "length_of_stay",
          "length_of_stay",
          "length_of_stay",
          "length_of_stay",
          "length_of_stay",
          "length_of_stay",
          "length_of_stay",
          "length_of_stay",
          "length_of_stay",
          "length_of_stay",
          "length_of_stay",
          "length_of_stay",
          "length_of_stay",
          "length_of_stay",
          "length_of_stay",
          "length_of_stay",
          "length_of_stay",
          "length_of_stay",
          "length_of_stay",
          "length_of_stay",
          "length_of_stay",
          "length_of_stay",
          "length_of_stay",
          "length_of_stay",
          "length_of_stay",
          "length_of_stay",
          "length_of_stay",
          "length_of_stay",
          "length_of_stay",
          "length_of_stay",
          "length_of_stay",
          "length_of_stay",
          "length_of_stay",
          "length_of_stay",
          "length_of_stay",
          "length_of_stay",
          "length_of_stay",
          "length_of_stay",
          "length_of_stay",
          "length_of_stay",
          "length_of_stay",
          "length_of_stay",
          "length_of_stay",
          "flight_hour",
          "flight_hour",
          "flight_hour",
          "flight_hour",
          "flight_hour",
          "flight_hour",
          "flight_hour",
          "flight_hour",
          "flight_hour",
          "flight_hour",
          "flight_hour",
          "flight_hour",
          "flight_hour",
          "flight_hour",
          "flight_hour",
          "flight_hour",
          "flight_hour",
          "flight_hour",
          "flight_hour",
          "flight_hour",
          "flight_hour",
          "flight_hour",
          "flight_hour",
          "flight_hour",
          "flight_day",
          "flight_day",
          "flight_day",
          "flight_day",
          "flight_day",
          "flight_day",
          "flight_day",
          "route",
          "route",
          "route",
          "route",
          "route",
          "route",
          "route",
          "route",
          "route",
          "route",
          "route",
          "route",
          "route",
          "route",
          "route",
          "route",
          "route",
          "route",
          "route",
          "route",
          "route",
          "route",
          "route",
          "route",
          "route",
          "route",
          "route",
          "route",
          "route",
          "route",
          "route",
          "route",
          "route",
          "route",
          "route",
          "route",
          "route",
          "route",
          "route",
          "route",
          "route",
          "route",
          "route",
          "route",
          "route",
          "route",
          "route",
          "route",
          "route",
          "route",
          "route",
          "route",
          "route",
          "route",
          "route",
          "route",
          "route",
          "route",
          "route",
          "route",
          "route",
          "route",
          "route",
          "route",
          "route",
          "route",
          "route",
          "route",
          "route",
          "route",
          "route",
          "route",
          "route",
          "route",
          "route",
          "route",
          "route",
          "route",
          "route",
          "route",
          "route",
          "route",
          "route",
          "route",
          "route",
          "route",
          "route",
          "route",
          "route",
          "route",
          "route",
          "route",
          "route",
          "route",
          "route",
          "route",
          "route",
          "route",
          "route",
          "route",
          "route",
          "route",
          "route",
          "route",
          "route",
          "route",
          "route",
          "route",
          "route",
          "route",
          "route",
          "route",
          "route",
          "route",
          "route",
          "route",
          "route",
          "route",
          "route",
          "route",
          "route",
          "route",
          "route",
          "route",
          "route",
          "route",
          "route",
          "route",
          "route",
          "route",
          "route",
          "route",
          "route",
          "route",
          "route",
          "route",
          "route",
          "route",
          "route",
          "route",
          "route",
          "route",
          "route",
          "route",
          "route",
          "route",
          "route",
          "route",
          "route",
          "route",
          "route",
          "route",
          "route",
          "route",
          "route",
          "route",
          "route",
          "route",
          "route",
          "route",
          "route",
          "route",
          "route",
          "route",
          "route",
          "route",
          "route",
          "route",
          "route",
          "route",
          "route",
          "route",
          "route",
          "route",
          "route",
          "route",
          "route",
          "route",
          "route",
          "route",
          "route",
          "route",
          "route",
          "route",
          "route",
          "route",
          "route",
          "route",
          "route",
          "route",
          "route",
          "route",
          "route",
          "route",
          "route",
          "route",
          "route",
          "route",
          "route",
          "route",
          "route",
          "route",
          "route",
          "route",
          "route",
          "route",
          "route",
          "route",
          "route",
          "route",
          "route",
          "route",
          "route",
          "route",
          "route",
          "route",
          "route",
          "route",
          "route",
          "route",
          "route",
          "route",
          "route",
          "route",
          "route",
          "route",
          "route",
          "route",
          "route",
          "route",
          "route",
          "route",
          "route",
          "route",
          "route",
          "route",
          "route",
          "route",
          "route",
          "route",
          "route",
          "route",
          "route",
          "route",
          "route",
          "route",
          "route",
          "route",
          "route",
          "route",
          "route",
          "route",
          "route",
          "route",
          "route",
          "route",
          "route",
          "route",
          "route",
          "route",
          "route",
          "route",
          "route",
          "route",
          "route",
          "route",
          "route",
          "route",
          "route",
          "route",
          "route",
          "route",
          "route",
          "route",
          "route",
          "route",
          "route",
          "route",
          "route",
          "route",
          "route",
          "route",
          "route",
          "route",
          "route",
          "route",
          "route",
          "route",
          "route",
          "route",
          "route",
          "route",
          "route",
          "route",
          "route",
          "route",
          "route",
          "route",
          "route",
          "route",
          "route",
          "route",
          "route",
          "route",
          "route",
          "route",
          "route",
          "route",
          "route",
          "route",
          "route",
          "route",
          "route",
          "route",
          "route",
          "route",
          "route",
          "route",
          "route",
          "route",
          "route",
          "route",
          "route",
          "route",
          "route",
          "route",
          "route",
          "route",
          "route",
          "route",
          "route",
          "route",
          "route",
          "route",
          "route",
          "route",
          "route",
          "route",
          "route",
          "route",
          "route",
          "route",
          "route",
          "route",
          "route",
          "route",
          "route",
          "route",
          "route",
          "route",
          "route",
          "route",
          "route",
          "route",
          "route",
          "route",
          "route",
          "route",
          "route",
          "route",
          "route",
          "route",
          "route",
          "route",
          "route",
          "route",
          "route",
          "route",
          "route",
          "route",
          "route",
          "route",
          "route",
          "route",
          "route",
          "route",
          "route",
          "route",
          "route",
          "route",
          "route",
          "route",
          "route",
          "route",
          "route",
          "route",
          "route",
          "route",
          "route",
          "route",
          "route",
          "route",
          "route",
          "route",
          "route",
          "route",
          "route",
          "route",
          "route",
          "route",
          "route",
          "route",
          "route",
          "route",
          "route",
          "route",
          "route",
          "route",
          "route",
          "route",
          "route",
          "route",
          "route",
          "route",
          "route",
          "route",
          "route",
          "route",
          "route",
          "route",
          "route",
          "route",
          "route",
          "route",
          "route",
          "route",
          "route",
          "route",
          "route",
          "route",
          "route",
          "route",
          "route",
          "route",
          "route",
          "route",
          "route",
          "route",
          "route",
          "route",
          "route",
          "route",
          "route",
          "route",
          "route",
          "route",
          "route",
          "route",
          "route",
          "route",
          "route",
          "route",
          "route",
          "route",
          "route",
          "route",
          "route",
          "route",
          "route",
          "route",
          "route",
          "route",
          "route",
          "route",
          "route",
          "route",
          "route",
          "route",
          "route",
          "route",
          "route",
          "route",
          "route",
          "route",
          "route",
          "route",
          "route",
          "route",
          "route",
          "route",
          "route",
          "route",
          "route",
          "route",
          "route",
          "route",
          "route",
          "route",
          "route",
          "route",
          "route",
          "route",
          "route",
          "route",
          "route",
          "route",
          "route",
          "route",
          "route",
          "route",
          "route",
          "route",
          "route",
          "route",
          "route",
          "route",
          "route",
          "route",
          "route",
          "route",
          "route",
          "route",
          "route",
          "route",
          "route",
          "route",
          "route",
          "route",
          "route",
          "route",
          "route",
          "route",
          "route",
          "route",
          "route",
          "route",
          "route",
          "route",
          "route",
          "route",
          "route",
          "route",
          "route",
          "route",
          "route",
          "route",
          "route",
          "route",
          "route",
          "route",
          "route",
          "route",
          "route",
          "route",
          "route",
          "route",
          "route",
          "route",
          "route",
          "route",
          "route",
          "route",
          "route",
          "route",
          "route",
          "route",
          "route",
          "route",
          "route",
          "route",
          "route",
          "route",
          "route",
          "route",
          "route",
          "route",
          "route",
          "route",
          "route",
          "route",
          "route",
          "route",
          "route",
          "route",
          "route",
          "route",
          "route",
          "route",
          "route",
          "route",
          "route",
          "route",
          "route",
          "route",
          "route",
          "route",
          "route",
          "route",
          "route",
          "route",
          "route",
          "route",
          "route",
          "route",
          "route",
          "route",
          "route",
          "route",
          "route",
          "route",
          "route",
          "route",
          "route",
          "route",
          "route",
          "route",
          "route",
          "route",
          "route",
          "route",
          "route",
          "route",
          "route",
          "route",
          "route",
          "route",
          "route",
          "route",
          "route",
          "route",
          "route",
          "route",
          "route",
          "route",
          "route",
          "route",
          "route",
          "route",
          "route",
          "route",
          "route",
          "route",
          "route",
          "route",
          "route",
          "route",
          "route",
          "route",
          "route",
          "route",
          "route",
          "route",
          "route",
          "route",
          "route",
          "route",
          "route",
          "route",
          "route",
          "route",
          "route",
          "route",
          "route",
          "route",
          "route",
          "route",
          "route",
          "route",
          "route",
          "route",
          "route",
          "route",
          "route",
          "route",
          "route",
          "route",
          "route",
          "route",
          "route",
          "route",
          "route",
          "route",
          "route",
          "route",
          "route",
          "route",
          "route",
          "route",
          "route",
          "route",
          "route",
          "route",
          "route",
          "route",
          "route",
          "route",
          "route",
          "route",
          "route",
          "route",
          "route",
          "route",
          "route",
          "route",
          "route",
          "route",
          "route",
          "route",
          "route",
          "route",
          "route",
          "route",
          "route",
          "route",
          "route",
          "route",
          "route",
          "route",
          "route",
          "route",
          "route",
          "route",
          "route",
          "route",
          "route",
          "route",
          "route",
          "route",
          "route",
          "route",
          "route",
          "route",
          "route",
          "route",
          "route",
          "route",
          "route",
          "route",
          "route",
          "route",
          "route",
          "route",
          "route",
          "route",
          "route",
          "route",
          "route",
          "route",
          "route",
          "route",
          "route",
          "route",
          "route",
          "route",
          "route",
          "route",
          "route",
          "route",
          "route",
          "route",
          "route",
          "route",
          "route",
          "route",
          "route",
          "route",
          "route",
          "route",
          "route",
          "route",
          "route",
          "route",
          "route",
          "route",
          "route",
          "route",
          "route",
          "route",
          "route",
          "route",
          "route",
          "route",
          "route",
          "route",
          "route",
          "route",
          "route",
          "route",
          "route",
          "route",
          "route",
          "route",
          "route",
          "route",
          "route",
          "route",
          "route",
          "route",
          "route",
          "route",
          "route",
          "route",
          "route",
          "route",
          "route",
          "route",
          "route",
          "route",
          "route",
          "booking_origin",
          "booking_origin",
          "booking_origin",
          "booking_origin",
          "booking_origin",
          "booking_origin",
          "booking_origin",
          "booking_origin",
          "booking_origin",
          "booking_origin",
          "booking_origin",
          "booking_origin",
          "booking_origin",
          "booking_origin",
          "booking_origin",
          "booking_origin",
          "booking_origin",
          "booking_origin",
          "booking_origin",
          "booking_origin",
          "booking_origin",
          "booking_origin",
          "booking_origin",
          "booking_origin",
          "booking_origin",
          "booking_origin",
          "booking_origin",
          "booking_origin",
          "booking_origin",
          "booking_origin",
          "booking_origin",
          "booking_origin",
          "booking_origin",
          "booking_origin",
          "booking_origin",
          "booking_origin",
          "booking_origin",
          "booking_origin",
          "booking_origin",
          "booking_origin",
          "booking_origin",
          "booking_origin",
          "booking_origin",
          "booking_origin",
          "booking_origin",
          "booking_origin",
          "booking_origin",
          "booking_origin",
          "booking_origin",
          "booking_origin",
          "booking_origin",
          "booking_origin",
          "booking_origin",
          "booking_origin",
          "booking_origin",
          "booking_origin",
          "booking_origin",
          "booking_origin",
          "booking_origin",
          "booking_origin",
          "booking_origin",
          "booking_origin",
          "booking_origin",
          "booking_origin",
          "booking_origin",
          "booking_origin",
          "booking_origin",
          "booking_origin",
          "booking_origin",
          "booking_origin",
          "booking_origin",
          "booking_origin",
          "booking_origin",
          "booking_origin",
          "booking_origin",
          "booking_origin",
          "booking_origin",
          "booking_origin",
          "booking_origin",
          "booking_origin",
          "booking_origin",
          "booking_origin",
          "booking_origin",
          "booking_origin",
          "booking_origin",
          "booking_origin",
          "booking_origin",
          "booking_origin",
          "booking_origin",
          "booking_origin",
          "booking_origin",
          "booking_origin",
          "booking_origin",
          "booking_origin",
          "booking_origin",
          "booking_origin",
          "booking_origin",
          "booking_origin",
          "booking_origin",
          "booking_origin",
          "booking_origin",
          "booking_origin",
          "booking_origin",
          "booking_origin",
          "wants_extra_baggage",
          "wants_extra_baggage",
          "wants_preferred_seat",
          "wants_preferred_seat",
          "wants_in_flight_meals",
          "wants_in_flight_meals",
          "flight_duration",
          "flight_duration",
          "flight_duration",
          "flight_duration",
          "flight_duration",
          "flight_duration",
          "flight_duration",
          "flight_duration",
          "flight_duration",
          "flight_duration",
          "flight_duration",
          "flight_duration",
          "flight_duration",
          "flight_duration",
          "flight_duration",
          "flight_duration",
          "flight_duration",
          "flight_duration",
          "flight_duration",
          "flight_duration",
          "flight_duration",
          "flight_day_numerical",
          "flight_day_numerical",
          "flight_day_numerical",
          "flight_day_numerical",
          "flight_day_numerical",
          "flight_day_numerical",
          "flight_day_numerical",
          "lead_bins",
          "lead_bins",
          "lead_bins",
          "lead_bins",
          "lead_bins",
          "lead_bins",
          "stay_bin",
          "stay_bin",
          "stay_bin",
          "stay_bin",
          "stay_bin",
          "stay_bin",
          "daypart",
          "daypart",
          "daypart",
          "daypart"
         ],
         "xaxis": "x",
         "y": {
          "bdata": "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",
          "dtype": "f8"
         },
         "yaxis": "y"
        }
       ],
       "layout": {
        "barmode": "relative",
        "legend": {
         "tracegroupgap": 0
        },
        "margin": {
         "t": 60
        },
        "template": {
         "data": {
          "bar": [
           {
            "error_x": {
             "color": "#2a3f5f"
            },
            "error_y": {
             "color": "#2a3f5f"
            },
            "marker": {
             "line": {
              "color": "#E5ECF6",
              "width": 0.5
             },
             "pattern": {
              "fillmode": "overlay",
              "size": 10,
              "solidity": 0.2
             }
            },
            "type": "bar"
           }
          ],
          "barpolar": [
           {
            "marker": {
             "line": {
              "color": "#E5ECF6",
              "width": 0.5
             },
             "pattern": {
              "fillmode": "overlay",
              "size": 10,
              "solidity": 0.2
             }
            },
            "type": "barpolar"
           }
          ],
          "carpet": [
           {
            "aaxis": {
             "endlinecolor": "#2a3f5f",
             "gridcolor": "white",
             "linecolor": "white",
             "minorgridcolor": "white",
             "startlinecolor": "#2a3f5f"
            },
            "baxis": {
             "endlinecolor": "#2a3f5f",
             "gridcolor": "white",
             "linecolor": "white",
             "minorgridcolor": "white",
             "startlinecolor": "#2a3f5f"
            },
            "type": "carpet"
           }
          ],
          "choropleth": [
           {
            "colorbar": {
             "outlinewidth": 0,
             "ticks": ""
            },
            "type": "choropleth"
           }
          ],
          "contour": [
           {
            "colorbar": {
             "outlinewidth": 0,
             "ticks": ""
            },
            "colorscale": [
             [
              0,
              "#0d0887"
             ],
             [
              0.1111111111111111,
              "#46039f"
             ],
             [
              0.2222222222222222,
              "#7201a8"
             ],
             [
              0.3333333333333333,
              "#9c179e"
             ],
             [
              0.4444444444444444,
              "#bd3786"
             ],
             [
              0.5555555555555556,
              "#d8576b"
             ],
             [
              0.6666666666666666,
              "#ed7953"
             ],
             [
              0.7777777777777778,
              "#fb9f3a"
             ],
             [
              0.8888888888888888,
              "#fdca26"
             ],
             [
              1,
              "#f0f921"
             ]
            ],
            "type": "contour"
           }
          ],
          "contourcarpet": [
           {
            "colorbar": {
             "outlinewidth": 0,
             "ticks": ""
            },
            "type": "contourcarpet"
           }
          ],
          "heatmap": [
           {
            "colorbar": {
             "outlinewidth": 0,
             "ticks": ""
            },
            "colorscale": [
             [
              0,
              "#0d0887"
             ],
             [
              0.1111111111111111,
              "#46039f"
             ],
             [
              0.2222222222222222,
              "#7201a8"
             ],
             [
              0.3333333333333333,
              "#9c179e"
             ],
             [
              0.4444444444444444,
              "#bd3786"
             ],
             [
              0.5555555555555556,
              "#d8576b"
             ],
             [
              0.6666666666666666,
              "#ed7953"
             ],
             [
              0.7777777777777778,
              "#fb9f3a"
             ],
             [
              0.8888888888888888,
              "#fdca26"
             ],
             [
              1,
              "#f0f921"
             ]
            ],
            "type": "heatmap"
           }
          ],
          "histogram": [
           {
            "marker": {
             "pattern": {
              "fillmode": "overlay",
              "size": 10,
              "solidity": 0.2
             }
            },
            "type": "histogram"
           }
          ],
          "histogram2d": [
           {
            "colorbar": {
             "outlinewidth": 0,
             "ticks": ""
            },
            "colorscale": [
             [
              0,
              "#0d0887"
             ],
             [
              0.1111111111111111,
              "#46039f"
             ],
             [
              0.2222222222222222,
              "#7201a8"
             ],
             [
              0.3333333333333333,
              "#9c179e"
             ],
             [
              0.4444444444444444,
              "#bd3786"
             ],
             [
              0.5555555555555556,
              "#d8576b"
             ],
             [
              0.6666666666666666,
              "#ed7953"
             ],
             [
              0.7777777777777778,
              "#fb9f3a"
             ],
             [
              0.8888888888888888,
              "#fdca26"
             ],
             [
              1,
              "#f0f921"
             ]
            ],
            "type": "histogram2d"
           }
          ],
          "histogram2dcontour": [
           {
            "colorbar": {
             "outlinewidth": 0,
             "ticks": ""
            },
            "colorscale": [
             [
              0,
              "#0d0887"
             ],
             [
              0.1111111111111111,
              "#46039f"
             ],
             [
              0.2222222222222222,
              "#7201a8"
             ],
             [
              0.3333333333333333,
              "#9c179e"
             ],
             [
              0.4444444444444444,
              "#bd3786"
             ],
             [
              0.5555555555555556,
              "#d8576b"
             ],
             [
              0.6666666666666666,
              "#ed7953"
             ],
             [
              0.7777777777777778,
              "#fb9f3a"
             ],
             [
              0.8888888888888888,
              "#fdca26"
             ],
             [
              1,
              "#f0f921"
             ]
            ],
            "type": "histogram2dcontour"
           }
          ],
          "mesh3d": [
           {
            "colorbar": {
             "outlinewidth": 0,
             "ticks": ""
            },
            "type": "mesh3d"
           }
          ],
          "parcoords": [
           {
            "line": {
             "colorbar": {
              "outlinewidth": 0,
              "ticks": ""
             }
            },
            "type": "parcoords"
           }
          ],
          "pie": [
           {
            "automargin": true,
            "type": "pie"
           }
          ],
          "scatter": [
           {
            "fillpattern": {
             "fillmode": "overlay",
             "size": 10,
             "solidity": 0.2
            },
            "type": "scatter"
           }
          ],
          "scatter3d": [
           {
            "line": {
             "colorbar": {
              "outlinewidth": 0,
              "ticks": ""
             }
            },
            "marker": {
             "colorbar": {
              "outlinewidth": 0,
              "ticks": ""
             }
            },
            "type": "scatter3d"
           }
          ],
          "scattercarpet": [
           {
            "marker": {
             "colorbar": {
              "outlinewidth": 0,
              "ticks": ""
             }
            },
            "type": "scattercarpet"
           }
          ],
          "scattergeo": [
           {
            "marker": {
             "colorbar": {
              "outlinewidth": 0,
              "ticks": ""
             }
            },
            "type": "scattergeo"
           }
          ],
          "scattergl": [
           {
            "marker": {
             "colorbar": {
              "outlinewidth": 0,
              "ticks": ""
             }
            },
            "type": "scattergl"
           }
          ],
          "scattermap": [
           {
            "marker": {
             "colorbar": {
              "outlinewidth": 0,
              "ticks": ""
             }
            },
            "type": "scattermap"
           }
          ],
          "scattermapbox": [
           {
            "marker": {
             "colorbar": {
              "outlinewidth": 0,
              "ticks": ""
             }
            },
            "type": "scattermapbox"
           }
          ],
          "scatterpolar": [
           {
            "marker": {
             "colorbar": {
              "outlinewidth": 0,
              "ticks": ""
             }
            },
            "type": "scatterpolar"
           }
          ],
          "scatterpolargl": [
           {
            "marker": {
             "colorbar": {
              "outlinewidth": 0,
              "ticks": ""
             }
            },
            "type": "scatterpolargl"
           }
          ],
          "scatterternary": [
           {
            "marker": {
             "colorbar": {
              "outlinewidth": 0,
              "ticks": ""
             }
            },
            "type": "scatterternary"
           }
          ],
          "surface": [
           {
            "colorbar": {
             "outlinewidth": 0,
             "ticks": ""
            },
            "colorscale": [
             [
              0,
              "#0d0887"
             ],
             [
              0.1111111111111111,
              "#46039f"
             ],
             [
              0.2222222222222222,
              "#7201a8"
             ],
             [
              0.3333333333333333,
              "#9c179e"
             ],
             [
              0.4444444444444444,
              "#bd3786"
             ],
             [
              0.5555555555555556,
              "#d8576b"
             ],
             [
              0.6666666666666666,
              "#ed7953"
             ],
             [
              0.7777777777777778,
              "#fb9f3a"
             ],
             [
              0.8888888888888888,
              "#fdca26"
             ],
             [
              1,
              "#f0f921"
             ]
            ],
            "type": "surface"
           }
          ],
          "table": [
           {
            "cells": {
             "fill": {
              "color": "#EBF0F8"
             },
             "line": {
              "color": "white"
             }
            },
            "header": {
             "fill": {
              "color": "#C8D4E3"
             },
             "line": {
              "color": "white"
             }
            },
            "type": "table"
           }
          ]
         },
         "layout": {
          "annotationdefaults": {
           "arrowcolor": "#2a3f5f",
           "arrowhead": 0,
           "arrowwidth": 1
          },
          "autotypenumbers": "strict",
          "coloraxis": {
           "colorbar": {
            "outlinewidth": 0,
            "ticks": ""
           }
          },
          "colorscale": {
           "diverging": [
            [
             0,
             "#8e0152"
            ],
            [
             0.1,
             "#c51b7d"
            ],
            [
             0.2,
             "#de77ae"
            ],
            [
             0.3,
             "#f1b6da"
            ],
            [
             0.4,
             "#fde0ef"
            ],
            [
             0.5,
             "#f7f7f7"
            ],
            [
             0.6,
             "#e6f5d0"
            ],
            [
             0.7,
             "#b8e186"
            ],
            [
             0.8,
             "#7fbc41"
            ],
            [
             0.9,
             "#4d9221"
            ],
            [
             1,
             "#276419"
            ]
           ],
           "sequential": [
            [
             0,
             "#0d0887"
            ],
            [
             0.1111111111111111,
             "#46039f"
            ],
            [
             0.2222222222222222,
             "#7201a8"
            ],
            [
             0.3333333333333333,
             "#9c179e"
            ],
            [
             0.4444444444444444,
             "#bd3786"
            ],
            [
             0.5555555555555556,
             "#d8576b"
            ],
            [
             0.6666666666666666,
             "#ed7953"
            ],
            [
             0.7777777777777778,
             "#fb9f3a"
            ],
            [
             0.8888888888888888,
             "#fdca26"
            ],
            [
             1,
             "#f0f921"
            ]
           ],
           "sequentialminus": [
            [
             0,
             "#0d0887"
            ],
            [
             0.1111111111111111,
             "#46039f"
            ],
            [
             0.2222222222222222,
             "#7201a8"
            ],
            [
             0.3333333333333333,
             "#9c179e"
            ],
            [
             0.4444444444444444,
             "#bd3786"
            ],
            [
             0.5555555555555556,
             "#d8576b"
            ],
            [
             0.6666666666666666,
             "#ed7953"
            ],
            [
             0.7777777777777778,
             "#fb9f3a"
            ],
            [
             0.8888888888888888,
             "#fdca26"
            ],
            [
             1,
             "#f0f921"
            ]
           ]
          },
          "colorway": [
           "#636efa",
           "#EF553B",
           "#00cc96",
           "#ab63fa",
           "#FFA15A",
           "#19d3f3",
           "#FF6692",
           "#B6E880",
           "#FF97FF",
           "#FECB52"
          ],
          "font": {
           "color": "#2a3f5f"
          },
          "geo": {
           "bgcolor": "white",
           "lakecolor": "white",
           "landcolor": "#E5ECF6",
           "showlakes": true,
           "showland": true,
           "subunitcolor": "white"
          },
          "hoverlabel": {
           "align": "left"
          },
          "hovermode": "closest",
          "mapbox": {
           "style": "light"
          },
          "paper_bgcolor": "white",
          "plot_bgcolor": "#E5ECF6",
          "polar": {
           "angularaxis": {
            "gridcolor": "white",
            "linecolor": "white",
            "ticks": ""
           },
           "bgcolor": "#E5ECF6",
           "radialaxis": {
            "gridcolor": "white",
            "linecolor": "white",
            "ticks": ""
           }
          },
          "scene": {
           "xaxis": {
            "backgroundcolor": "#E5ECF6",
            "gridcolor": "white",
            "gridwidth": 2,
            "linecolor": "white",
            "showbackground": true,
            "ticks": "",
            "zerolinecolor": "white"
           },
           "yaxis": {
            "backgroundcolor": "#E5ECF6",
            "gridcolor": "white",
            "gridwidth": 2,
            "linecolor": "white",
            "showbackground": true,
            "ticks": "",
            "zerolinecolor": "white"
           },
           "zaxis": {
            "backgroundcolor": "#E5ECF6",
            "gridcolor": "white",
            "gridwidth": 2,
            "linecolor": "white",
            "showbackground": true,
            "ticks": "",
            "zerolinecolor": "white"
           }
          },
          "shapedefaults": {
           "line": {
            "color": "#2a3f5f"
           }
          },
          "ternary": {
           "aaxis": {
            "gridcolor": "white",
            "linecolor": "white",
            "ticks": ""
           },
           "baxis": {
            "gridcolor": "white",
            "linecolor": "white",
            "ticks": ""
           },
           "bgcolor": "#E5ECF6",
           "caxis": {
            "gridcolor": "white",
            "linecolor": "white",
            "ticks": ""
           }
          },
          "title": {
           "x": 0.05
          },
          "xaxis": {
           "automargin": true,
           "gridcolor": "white",
           "linecolor": "white",
           "ticks": "",
           "title": {
            "standoff": 15
           },
           "zerolinecolor": "white",
           "zerolinewidth": 2
          },
          "yaxis": {
           "automargin": true,
           "gridcolor": "white",
           "linecolor": "white",
           "ticks": "",
           "title": {
            "standoff": 15
           },
           "zerolinecolor": "white",
           "zerolinewidth": 2
          }
         }
        },
        "xaxis": {
         "anchor": "y",
         "domain": [
          0,
          1
         ],
         "title": {
          "text": "feature"
         }
        },
        "yaxis": {
         "anchor": "x",
         "domain": [
          0,
          1
         ],
         "title": {
          "text": "not_complete_%"
         }
        }
       }
      }
     },
     "metadata": {},
     "output_type": "display_data"
    }
   ],
   "source": [
    "\n",
    "\n",
    "fig = px.bar(summary, x='feature', y='complete_%')\n",
    "fig.show()\n",
    "fig2=px.bar(summary,x='feature',y='not_complete_%')\n",
    "fig2.show()"
   ]
  },
  {
   "cell_type": "markdown",
   "id": "e32d2fc4",
   "metadata": {},
   "source": [
    "## Numeric vs Target plot"
   ]
  },
  {
   "cell_type": "code",
   "execution_count": 22,
   "id": "ecc39770",
   "metadata": {},
   "outputs": [],
   "source": [
    "target=df['booking_complete']\n",
    "numeric_cols=['purchase_lead', 'length_of_stay', 'flight_duration', 'flight_hour','num_pasengers',]\n",
    "\n",
    "\n",
    "for c in numeric_cols:\n",
    "    if c in df.columns:\n",
    "        df[c] = pd.to_numeric(df[c], errors='coerce')"
   ]
  },
  {
   "cell_type": "code",
   "execution_count": 18,
   "id": "20a725c9",
   "metadata": {},
   "outputs": [
    {
     "data": {
      "image/png": "[encoded data removed]",
      "text/plain": [
       "<Figure size 1400x2000 with 4 Axes>"
      ]
     },
     "metadata": {},
     "output_type": "display_data"
    },
    {
     "name": "stdout",
     "output_type": "stream",
     "text": [
      "Columns being plotted: ['purchase_lead', 'length_of_stay', 'flight_duration', 'flight_hour']\n"
     ]
    }
   ],
   "source": [
    "cols_target=[c for c in numeric_cols if c in df.columns]\n",
    "n=len(cols_target)\n",
    "fig,axes=plt.subplots(nrows=n,ncols=1,figsize=(14,5*n),constrained_layout=True)\n",
    "if n == 1:\n",
    "    axes = [axes] \n",
    "for ax, col in zip(axes, cols_target):\n",
    "    sns.boxplot(data=df, x=target, y=col, ax=ax)\n",
    "    ax.set_title(f\"{col} by {target} (0=Not Completed, 1=Completed)\")\n",
    "    ax.set_xlabel(\"booking_complete\")\n",
    "    ax.set_ylabel(col)\n",
    "plt.show()\n",
    "print(\"Columns being plotted:\", cols_target)\n"
   ]
  },
  {
   "cell_type": "code",
   "execution_count": 19,
   "id": "494072e0",
   "metadata": {},
   "outputs": [
    {
     "data": {
      "image/png": "[encoded data removed]",
      "text/plain": [
       "<Figure size 700x400 with 1 Axes>"
      ]
     },
     "metadata": {},
     "output_type": "display_data"
    },
    {
     "data": {
      "image/png": "[encoded data removed]",
      "text/plain": [
       "<Figure size 700x400 with 1 Axes>"
      ]
     },
     "metadata": {},
     "output_type": "display_data"
    },
    {
     "data": {
      "image/png": "[encoded data removed]",
      "text/plain": [
       "<Figure size 700x400 with 1 Axes>"
      ]
     },
     "metadata": {},
     "output_type": "display_data"
    },
    {
     "data": {
      "image/png": "[encoded data removed]",
      "text/plain": [
       "<Figure size 700x400 with 1 Axes>"
      ]
     },
     "metadata": {},
     "output_type": "display_data"
    }
   ],
   "source": [
    "for col in cols_target:\n",
    "    plt.figure(figsize=(7,4))\n",
    "    sns.kdeplot(data=df, x=col, hue=target, common_norm=False, fill=True, alpha=0.3)\n",
    "    plt.title(f\"Density of {col} by {target}\")\n",
    "    plt.xlabel(col)\n",
    "    plt.show()\n"
   ]
  },
  {
   "cell_type": "code",
   "execution_count": 20,
   "id": "2d37b02a",
   "metadata": {},
   "outputs": [
    {
     "data": {
      "image/png": "[encoded data removed]",
      "text/plain": [
       "<Figure size 700x400 with 1 Axes>"
      ]
     },
     "metadata": {},
     "output_type": "display_data"
    },
    {
     "data": {
      "image/png": "[encoded data removed]",
      "text/plain": [
       "<Figure size 700x400 with 1 Axes>"
      ]
     },
     "metadata": {},
     "output_type": "display_data"
    },
    {
     "data": {
      "image/png": "[encoded data removed]",
      "text/plain": [
       "<Figure size 700x400 with 1 Axes>"
      ]
     },
     "metadata": {},
     "output_type": "display_data"
    },
    {
     "data": {
      "image/png": "[encoded data removed]",
      "text/plain": [
       "<Figure size 700x400 with 1 Axes>"
      ]
     },
     "metadata": {},
     "output_type": "display_data"
    }
   ],
   "source": [
    "for col in cols_target:\n",
    "    plt.figure(figsize=(7,4))\n",
    "    sns.histplot(data=df, x=col, hue=target, element=\"step\", stat=\"density\", common_norm=False, bins=30)\n",
    "    plt.title(f\"Histogram of {col} by {target}\")\n",
    "    plt.xlabel(col)\n",
    "    plt.show()\n"
   ]
  },
  {
   "cell_type": "code",
   "execution_count": 26,
   "id": "e8c0f7f6",
   "metadata": {},
   "outputs": [
    {
     "data": {
      "image/png": "[encoded data removed]",
      "text/plain": [
       "<Figure size 1200x1200 with 1 Axes>"
      ]
     },
     "metadata": {},
     "output_type": "display_data"
    },
    {
     "data": {
      "image/png": "[encoded data removed]",
      "text/plain": [
       "<Figure size 1200x1200 with 1 Axes>"
      ]
     },
     "metadata": {},
     "output_type": "display_data"
    },
    {
     "data": {
      "image/png": "[encoded data removed]",
      "text/plain": [
       "<Figure size 1200x1200 with 1 Axes>"
      ]
     },
     "metadata": {},
     "output_type": "display_data"
    },
    {
     "data": {
      "image/png": "[encoded data removed]",
      "text/plain": [
       "<Figure size 1200x1200 with 1 Axes>"
      ]
     },
     "metadata": {},
     "output_type": "display_data"
    }
   ],
   "source": [
    "for cols in cols_target:\n",
    "    plt.figure(figsize=(12,12))\n",
    "    sns.countplot(data=df,x=cols,hue=target,stat=\"percent\")\n",
    "    plt.show()"
   ]
  },
  {
   "cell_type": "code",
   "execution_count": 21,
   "id": "e3ae256c",
   "metadata": {},
   "outputs": [
    {
     "name": "stderr",
     "output_type": "stream",
     "text": [
      "C:\\Users\\nikhi\\AppData\\Local\\Temp\\ipykernel_15788\\21232555.py:2: FutureWarning:\n",
      "\n",
      "The default of observed=False is deprecated and will be changed to True in a future version of pandas. Pass observed=False to retain current behavior or observed=True to adopt the future default and silence this warning.\n",
      "\n"
     ]
    },
    {
     "ename": "KeyError",
     "evalue": "'Columns not found: 0, 1'",
     "output_type": "error",
     "traceback": [
      "\u001b[31m---------------------------------------------------------------------------\u001b[39m",
      "\u001b[31mKeyError\u001b[39m                                  Traceback (most recent call last)",
      "\u001b[36mCell\u001b[39m\u001b[36m \u001b[39m\u001b[32mIn[21]\u001b[39m\u001b[32m, line 7\u001b[39m\n\u001b[32m      5\u001b[39m binned_cols = [c \u001b[38;5;28;01mfor\u001b[39;00m c \u001b[38;5;129;01min\u001b[39;00m [\u001b[33m'\u001b[39m\u001b[33mlead_bin\u001b[39m\u001b[33m'\u001b[39m,\u001b[33m'\u001b[39m\u001b[33mstay_bin\u001b[39m\u001b[33m'\u001b[39m] \u001b[38;5;28;01mif\u001b[39;00m c \u001b[38;5;129;01min\u001b[39;00m df.columns]\n\u001b[32m      6\u001b[39m \u001b[38;5;28;01mfor\u001b[39;00m col \u001b[38;5;129;01min\u001b[39;00m binned_cols:\n\u001b[32m----> \u001b[39m\u001b[32m7\u001b[39m     rates = \u001b[43mcompletion_rate\u001b[49m\u001b[43m(\u001b[49m\u001b[43mdf\u001b[49m\u001b[43m,\u001b[49m\u001b[43m \u001b[49m\u001b[43mcol\u001b[49m\u001b[43m,\u001b[49m\u001b[43m \u001b[49m\u001b[43mtarget\u001b[49m\u001b[43m=\u001b[49m\u001b[43mtarget\u001b[49m\u001b[43m)\u001b[49m\n\u001b[32m      8\u001b[39m     ax = rates[\u001b[33m'\u001b[39m\u001b[33mcompletion_rate\u001b[39m\u001b[33m'\u001b[39m].plot(kind=\u001b[33m'\u001b[39m\u001b[33mbar\u001b[39m\u001b[33m'\u001b[39m, figsize=(\u001b[32m7\u001b[39m,\u001b[32m4\u001b[39m), color=\u001b[33m'\u001b[39m\u001b[33m#4C78A8\u001b[39m\u001b[33m'\u001b[39m)\n\u001b[32m      9\u001b[39m     ax.set_title(\u001b[33mf\u001b[39m\u001b[33m\"\u001b[39m\u001b[33mCompletion Rate by \u001b[39m\u001b[38;5;132;01m{\u001b[39;00mcol\u001b[38;5;132;01m}\u001b[39;00m\u001b[33m (with counts)\u001b[39m\u001b[33m\"\u001b[39m)\n",
      "\u001b[36mCell\u001b[39m\u001b[36m \u001b[39m\u001b[32mIn[21]\u001b[39m\u001b[32m, line 2\u001b[39m, in \u001b[36mcompletion_rate\u001b[39m\u001b[34m(df, col, target)\u001b[39m\n\u001b[32m      1\u001b[39m \u001b[38;5;28;01mdef\u001b[39;00m\u001b[38;5;250m \u001b[39m\u001b[34mcompletion_rate\u001b[39m(df, col, target=\u001b[33m'\u001b[39m\u001b[33mbooking_complete\u001b[39m\u001b[33m'\u001b[39m):\n\u001b[32m----> \u001b[39m\u001b[32m2\u001b[39m     out = (\u001b[43mdf\u001b[49m\u001b[43m.\u001b[49m\u001b[43mgroupby\u001b[49m\u001b[43m(\u001b[49m\u001b[43mcol\u001b[49m\u001b[43m)\u001b[49m\u001b[43m[\u001b[49m\u001b[43mtarget\u001b[49m\u001b[43m]\u001b[49m.mean().sort_values(ascending=\u001b[38;5;28;01mFalse\u001b[39;00m).rename(\u001b[33m'\u001b[39m\u001b[33mcompletion_rate\u001b[39m\u001b[33m'\u001b[39m).to_frame())\n\u001b[32m      3\u001b[39m     out[\u001b[33m'\u001b[39m\u001b[33mcount\u001b[39m\u001b[33m'\u001b[39m] = df[col].value_counts().reindex(out.index)\n\u001b[32m      4\u001b[39m     \u001b[38;5;28;01mreturn\u001b[39;00m (out*\u001b[32m100\u001b[39m).round(\u001b[32m2\u001b[39m)\n",
      "\u001b[36mFile \u001b[39m\u001b[32m~\\AppData\\Local\\Packages\\PythonSoftwareFoundation.Python.3.12_qbz5n2kfra8p0\\LocalCache\\local-packages\\Python312\\site-packages\\pandas\\core\\groupby\\generic.py:1951\u001b[39m, in \u001b[36mDataFrameGroupBy.__getitem__\u001b[39m\u001b[34m(self, key)\u001b[39m\n\u001b[32m   1944\u001b[39m \u001b[38;5;28;01mif\u001b[39;00m \u001b[38;5;28misinstance\u001b[39m(key, \u001b[38;5;28mtuple\u001b[39m) \u001b[38;5;129;01mand\u001b[39;00m \u001b[38;5;28mlen\u001b[39m(key) > \u001b[32m1\u001b[39m:\n\u001b[32m   1945\u001b[39m     \u001b[38;5;66;03m# if len == 1, then it becomes a SeriesGroupBy and this is actually\u001b[39;00m\n\u001b[32m   1946\u001b[39m     \u001b[38;5;66;03m# valid syntax, so don't raise\u001b[39;00m\n\u001b[32m   1947\u001b[39m     \u001b[38;5;28;01mraise\u001b[39;00m \u001b[38;5;167;01mValueError\u001b[39;00m(\n\u001b[32m   1948\u001b[39m         \u001b[33m\"\u001b[39m\u001b[33mCannot subset columns with a tuple with more than one element. \u001b[39m\u001b[33m\"\u001b[39m\n\u001b[32m   1949\u001b[39m         \u001b[33m\"\u001b[39m\u001b[33mUse a list instead.\u001b[39m\u001b[33m\"\u001b[39m\n\u001b[32m   1950\u001b[39m     )\n\u001b[32m-> \u001b[39m\u001b[32m1951\u001b[39m \u001b[38;5;28;01mreturn\u001b[39;00m \u001b[38;5;28;43msuper\u001b[39;49m\u001b[43m(\u001b[49m\u001b[43m)\u001b[49m\u001b[43m.\u001b[49m\u001b[34;43m__getitem__\u001b[39;49m\u001b[43m(\u001b[49m\u001b[43mkey\u001b[49m\u001b[43m)\u001b[49m\n",
      "\u001b[36mFile \u001b[39m\u001b[32m~\\AppData\\Local\\Packages\\PythonSoftwareFoundation.Python.3.12_qbz5n2kfra8p0\\LocalCache\\local-packages\\Python312\\site-packages\\pandas\\core\\base.py:239\u001b[39m, in \u001b[36mSelectionMixin.__getitem__\u001b[39m\u001b[34m(self, key)\u001b[39m\n\u001b[32m    237\u001b[39m     \u001b[38;5;28;01mif\u001b[39;00m \u001b[38;5;28mlen\u001b[39m(\u001b[38;5;28mself\u001b[39m.obj.columns.intersection(key)) != \u001b[38;5;28mlen\u001b[39m(\u001b[38;5;28mset\u001b[39m(key)):\n\u001b[32m    238\u001b[39m         bad_keys = \u001b[38;5;28mlist\u001b[39m(\u001b[38;5;28mset\u001b[39m(key).difference(\u001b[38;5;28mself\u001b[39m.obj.columns))\n\u001b[32m--> \u001b[39m\u001b[32m239\u001b[39m         \u001b[38;5;28;01mraise\u001b[39;00m \u001b[38;5;167;01mKeyError\u001b[39;00m(\u001b[33mf\u001b[39m\u001b[33m\"\u001b[39m\u001b[33mColumns not found: \u001b[39m\u001b[38;5;132;01m{\u001b[39;00m\u001b[38;5;28mstr\u001b[39m(bad_keys)[\u001b[32m1\u001b[39m:-\u001b[32m1\u001b[39m]\u001b[38;5;132;01m}\u001b[39;00m\u001b[33m\"\u001b[39m)\n\u001b[32m    240\u001b[39m     \u001b[38;5;28;01mreturn\u001b[39;00m \u001b[38;5;28mself\u001b[39m._gotitem(\u001b[38;5;28mlist\u001b[39m(key), ndim=\u001b[32m2\u001b[39m)\n\u001b[32m    242\u001b[39m \u001b[38;5;28;01melse\u001b[39;00m:\n",
      "\u001b[31mKeyError\u001b[39m: 'Columns not found: 0, 1'"
     ]
    }
   ],
   "source": [
    "def completion_rate(df, col, target='booking_complete'):\n",
    "    out = (df.groupby(col)[target].mean().sort_values(ascending=False).rename('completion_rate').to_frame())\n",
    "    out['count'] = df[col].value_counts().reindex(out.index)\n",
    "    return (out*100).round(2)\n",
    "binned_cols = [c for c in ['lead_bin','stay_bin'] if c in df.columns]\n",
    "for col in binned_cols:\n",
    "    rates = completion_rate(df, col, target=target)\n",
    "    ax = rates['completion_rate'].plot(kind='bar', figsize=(7,4), color='#4C78A8')\n",
    "    ax.set_title(f\"Completion Rate by {col} (with counts)\")\n",
    "    ax.set_ylabel(\"Completion rate (%)\")\n",
    "    ax.set_xlabel(col)\n",
    "    # Annotate counts\n",
    "    for p, cnt in zip(ax.patches, rates['count'].values):\n",
    "        ax.annotate(f\"n={int(cnt)}\", (p.get_x()+p.get_width()/2, p.get_height()), ha='center', va='bottom', fontsize=9, rotation=0)\n",
    "    plt.show()\n"
   ]
  },
  {
   "cell_type": "markdown",
   "id": "5b27dddd",
   "metadata": {},
   "source": [
    "## Top 5  EDA insights and  Hypothese"
   ]
  }
 ],
 "metadata": {
  "kernelspec": {
   "display_name": "Python 3",
   "language": "python",
   "name": "python3"
  },
  "language_info": {
   "codemirror_mode": {
    "name": "ipython",
    "version": 3
   },
   "file_extension": ".py",
   "mimetype": "text/x-python",
   "name": "python",
   "nbconvert_exporter": "python",
   "pygments_lexer": "ipython3",
   "version": "3.12.10"
  }
 },
 "nbformat": 4,
 "nbformat_minor": 5
}
