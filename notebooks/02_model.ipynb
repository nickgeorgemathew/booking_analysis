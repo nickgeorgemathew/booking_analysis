{
 "cells": [
  {
   "cell_type": "markdown",
   "id": "8bae6f2d",
   "metadata": {},
   "source": [
    "# Modeling and interpretability"
   ]
  },
  {
   "cell_type": "markdown",
   "id": "e50b992b",
   "metadata": {},
   "source": [
    "## train/test(stratified)"
   ]
  },
  {
   "cell_type": "markdown",
   "id": "01816364",
   "metadata": {},
   "source": [
    "## Pipeline and encoding"
   ]
  },
  {
   "cell_type": "markdown",
   "id": "7f50d143",
   "metadata": {},
   "source": [
    "## Baseline: Logistic Regression"
   ]
  },
  {
   "cell_type": "markdown",
   "id": "5ae337ee",
   "metadata": {},
   "source": [
    "## Stronger Model: Random Forest/XGBoost"
   ]
  },
  {
   "cell_type": "markdown",
   "id": "0d434f09",
   "metadata": {},
   "source": [
    "## Threshold Tuning for F1"
   ]
  },
  {
   "cell_type": "markdown",
   "id": "70a069e1",
   "metadata": {},
   "source": [
    "## Feature Importance (LR + Tree)"
   ]
  },
  {
   "cell_type": "markdown",
   "id": "e771e4dd",
   "metadata": {},
   "source": [
    "## Top 5 Drivers + 1-line interpretations"
   ]
  },
  {
   "cell_type": "markdown",
   "id": "7fe16818",
   "metadata": {},
   "source": [
    "## Business Actions"
   ]
  },
  {
   "cell_type": "markdown",
   "id": "ae4fb40c",
   "metadata": {},
   "source": [
    "## Model Card (short)"
   ]
  }
 ],
 "metadata": {
  "language_info": {
   "name": "python"
  }
 },
 "nbformat": 4,
 "nbformat_minor": 5
}
