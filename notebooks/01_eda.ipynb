{
 "cells": [
  {
   "cell_type": "markdown",
   "id": "10bf89ab",
   "metadata": {},
   "source": [
    "# EDA and Feature engineering\n"
   ]
  },
  {
   "cell_type": "markdown",
   "id": "69202814",
   "metadata": {},
   "source": [
    "## Intro and Goals"
   ]
  },
  {
   "cell_type": "markdown",
   "id": "52dc92cf",
   "metadata": {},
   "source": [
    "### Analysing the booking completetion of booking tickets\n",
    "#### Problem statement and Scope\n",
    "Airline and travel booking platforms often experience a significant number of incomplete bookings — customers start the booking process (selecting routes, seats, and preferences) but abandon before final payment.\n",
    "This project aims to predict whether a booking will be completed using historical booking data containing features like purchase lead time, travel routes, flight durations, and seat preferences.\n",
    "\n",
    "By identifying factors that influence booking completion, the business can:\n",
    "\n",
    "Optimize the booking process to reduce drop-offs.\n",
    "\n",
    "Target at-risk customers with personalized reminders or offers.\n",
    "\n",
    "Improve marketing ROI by focusing on high-likelihood customers.\n",
    "\n",
    "Goal: Build a machine learning model that predicts booking completion with high accuracy, while ensuring interpretability for business stakeholders.\n",
    "\n",
    "Success Criteria:\n",
    "\n",
    "Primary: Achieve at least 85% accuracy or 0.85 F1-score on test data.\n",
    "\n",
    "Secondary: Identify the top 5 most influential factors affecting booking completion.\n"
   ]
  },
  {
   "cell_type": "markdown",
   "id": "422b729f",
   "metadata": {},
   "source": [
    "## Load and data checks"
   ]
  },
  {
   "cell_type": "code",
   "execution_count": 18,
   "id": "44835a82",
   "metadata": {},
   "outputs": [],
   "source": [
    "#imports\n",
    "\n",
    "import pandas as pd\n",
    "import matplotlib.pyplot as plt\n",
    "import seaborn as sns \n",
    "import numpy as np\n"
   ]
  },
  {
   "cell_type": "code",
   "execution_count": 19,
   "id": "d33ec829",
   "metadata": {},
   "outputs": [
    {
     "name": "stdout",
     "output_type": "stream",
     "text": [
      "<class 'pandas.core.frame.DataFrame'>\n",
      "RangeIndex: 50000 entries, 0 to 49999\n",
      "Data columns (total 14 columns):\n",
      " #   Column                 Non-Null Count  Dtype  \n",
      "---  ------                 --------------  -----  \n",
      " 0   num_passengers         50000 non-null  int64  \n",
      " 1   sales_channel          50000 non-null  object \n",
      " 2   trip_type              50000 non-null  object \n",
      " 3   purchase_lead          50000 non-null  int64  \n",
      " 4   length_of_stay         50000 non-null  int64  \n",
      " 5   flight_hour            50000 non-null  int64  \n",
      " 6   flight_day             50000 non-null  object \n",
      " 7   route                  50000 non-null  object \n",
      " 8   booking_origin         50000 non-null  object \n",
      " 9   wants_extra_baggage    50000 non-null  int64  \n",
      " 10  wants_preferred_seat   50000 non-null  int64  \n",
      " 11  wants_in_flight_meals  50000 non-null  int64  \n",
      " 12  flight_duration        50000 non-null  float64\n",
      " 13  booking_complete       50000 non-null  int64  \n",
      "dtypes: float64(1), int64(8), object(5)\n",
      "memory usage: 5.3+ MB\n"
     ]
    }
   ],
   "source": [
    "df=pd.read_csv(\"customer_booking.csv\",encoding=\"ISO-8859-1\")\n",
    "df=df.copy()\n",
    "df.info()"
   ]
  },
  {
   "cell_type": "code",
   "execution_count": 20,
   "id": "265c383f",
   "metadata": {},
   "outputs": [
    {
     "data": {
      "text/html": [
       "<div>\n",
       "<style scoped>\n",
       "    .dataframe tbody tr th:only-of-type {\n",
       "        vertical-align: middle;\n",
       "    }\n",
       "\n",
       "    .dataframe tbody tr th {\n",
       "        vertical-align: top;\n",
       "    }\n",
       "\n",
       "    .dataframe thead th {\n",
       "        text-align: right;\n",
       "    }\n",
       "</style>\n",
       "<table border=\"1\" class=\"dataframe\">\n",
       "  <thead>\n",
       "    <tr style=\"text-align: right;\">\n",
       "      <th></th>\n",
       "      <th>num_passengers</th>\n",
       "      <th>purchase_lead</th>\n",
       "      <th>length_of_stay</th>\n",
       "      <th>flight_hour</th>\n",
       "      <th>wants_extra_baggage</th>\n",
       "      <th>wants_preferred_seat</th>\n",
       "      <th>wants_in_flight_meals</th>\n",
       "      <th>flight_duration</th>\n",
       "      <th>booking_complete</th>\n",
       "    </tr>\n",
       "  </thead>\n",
       "  <tbody>\n",
       "    <tr>\n",
       "      <th>count</th>\n",
       "      <td>50000.000000</td>\n",
       "      <td>50000.000000</td>\n",
       "      <td>50000.00000</td>\n",
       "      <td>50000.00000</td>\n",
       "      <td>50000.000000</td>\n",
       "      <td>50000.000000</td>\n",
       "      <td>50000.000000</td>\n",
       "      <td>50000.000000</td>\n",
       "      <td>50000.000000</td>\n",
       "    </tr>\n",
       "    <tr>\n",
       "      <th>mean</th>\n",
       "      <td>1.591240</td>\n",
       "      <td>84.940480</td>\n",
       "      <td>23.04456</td>\n",
       "      <td>9.06634</td>\n",
       "      <td>0.668780</td>\n",
       "      <td>0.296960</td>\n",
       "      <td>0.427140</td>\n",
       "      <td>7.277561</td>\n",
       "      <td>0.149560</td>\n",
       "    </tr>\n",
       "    <tr>\n",
       "      <th>std</th>\n",
       "      <td>1.020165</td>\n",
       "      <td>90.451378</td>\n",
       "      <td>33.88767</td>\n",
       "      <td>5.41266</td>\n",
       "      <td>0.470657</td>\n",
       "      <td>0.456923</td>\n",
       "      <td>0.494668</td>\n",
       "      <td>1.496863</td>\n",
       "      <td>0.356643</td>\n",
       "    </tr>\n",
       "    <tr>\n",
       "      <th>min</th>\n",
       "      <td>1.000000</td>\n",
       "      <td>0.000000</td>\n",
       "      <td>0.00000</td>\n",
       "      <td>0.00000</td>\n",
       "      <td>0.000000</td>\n",
       "      <td>0.000000</td>\n",
       "      <td>0.000000</td>\n",
       "      <td>4.670000</td>\n",
       "      <td>0.000000</td>\n",
       "    </tr>\n",
       "    <tr>\n",
       "      <th>25%</th>\n",
       "      <td>1.000000</td>\n",
       "      <td>21.000000</td>\n",
       "      <td>5.00000</td>\n",
       "      <td>5.00000</td>\n",
       "      <td>0.000000</td>\n",
       "      <td>0.000000</td>\n",
       "      <td>0.000000</td>\n",
       "      <td>5.620000</td>\n",
       "      <td>0.000000</td>\n",
       "    </tr>\n",
       "    <tr>\n",
       "      <th>50%</th>\n",
       "      <td>1.000000</td>\n",
       "      <td>51.000000</td>\n",
       "      <td>17.00000</td>\n",
       "      <td>9.00000</td>\n",
       "      <td>1.000000</td>\n",
       "      <td>0.000000</td>\n",
       "      <td>0.000000</td>\n",
       "      <td>7.570000</td>\n",
       "      <td>0.000000</td>\n",
       "    </tr>\n",
       "    <tr>\n",
       "      <th>75%</th>\n",
       "      <td>2.000000</td>\n",
       "      <td>115.000000</td>\n",
       "      <td>28.00000</td>\n",
       "      <td>13.00000</td>\n",
       "      <td>1.000000</td>\n",
       "      <td>1.000000</td>\n",
       "      <td>1.000000</td>\n",
       "      <td>8.830000</td>\n",
       "      <td>0.000000</td>\n",
       "    </tr>\n",
       "    <tr>\n",
       "      <th>max</th>\n",
       "      <td>9.000000</td>\n",
       "      <td>867.000000</td>\n",
       "      <td>778.00000</td>\n",
       "      <td>23.00000</td>\n",
       "      <td>1.000000</td>\n",
       "      <td>1.000000</td>\n",
       "      <td>1.000000</td>\n",
       "      <td>9.500000</td>\n",
       "      <td>1.000000</td>\n",
       "    </tr>\n",
       "  </tbody>\n",
       "</table>\n",
       "</div>"
      ],
      "text/plain": [
       "       num_passengers  purchase_lead  length_of_stay  flight_hour  \\\n",
       "count    50000.000000   50000.000000     50000.00000  50000.00000   \n",
       "mean         1.591240      84.940480        23.04456      9.06634   \n",
       "std          1.020165      90.451378        33.88767      5.41266   \n",
       "min          1.000000       0.000000         0.00000      0.00000   \n",
       "25%          1.000000      21.000000         5.00000      5.00000   \n",
       "50%          1.000000      51.000000        17.00000      9.00000   \n",
       "75%          2.000000     115.000000        28.00000     13.00000   \n",
       "max          9.000000     867.000000       778.00000     23.00000   \n",
       "\n",
       "       wants_extra_baggage  wants_preferred_seat  wants_in_flight_meals  \\\n",
       "count         50000.000000          50000.000000           50000.000000   \n",
       "mean              0.668780              0.296960               0.427140   \n",
       "std               0.470657              0.456923               0.494668   \n",
       "min               0.000000              0.000000               0.000000   \n",
       "25%               0.000000              0.000000               0.000000   \n",
       "50%               1.000000              0.000000               0.000000   \n",
       "75%               1.000000              1.000000               1.000000   \n",
       "max               1.000000              1.000000               1.000000   \n",
       "\n",
       "       flight_duration  booking_complete  \n",
       "count     50000.000000      50000.000000  \n",
       "mean          7.277561          0.149560  \n",
       "std           1.496863          0.356643  \n",
       "min           4.670000          0.000000  \n",
       "25%           5.620000          0.000000  \n",
       "50%           7.570000          0.000000  \n",
       "75%           8.830000          0.000000  \n",
       "max           9.500000          1.000000  "
      ]
     },
     "execution_count": 20,
     "metadata": {},
     "output_type": "execute_result"
    }
   ],
   "source": [
    "df.describe()"
   ]
  },
  {
   "cell_type": "markdown",
   "id": "6dd5c3f4",
   "metadata": {},
   "source": [
    "## Target Balance"
   ]
  },
  {
   "cell_type": "code",
   "execution_count": 21,
   "id": "43b9281e",
   "metadata": {},
   "outputs": [
    {
     "name": "stdout",
     "output_type": "stream",
     "text": [
      "Booking completion class counts:\n",
      "booking_complete\n",
      "0    42522\n",
      "1     7478\n",
      "\n",
      "Booking completion class rates (%):\n",
      "booking_complete\n",
      "0    85.04\n",
      "1    14.96\n"
     ]
    },
    {
     "data": {
      "text/html": [
       "<div>\n",
       "<style scoped>\n",
       "    .dataframe tbody tr th:only-of-type {\n",
       "        vertical-align: middle;\n",
       "    }\n",
       "\n",
       "    .dataframe tbody tr th {\n",
       "        vertical-align: top;\n",
       "    }\n",
       "\n",
       "    .dataframe thead th {\n",
       "        text-align: right;\n",
       "    }\n",
       "</style>\n",
       "<table border=\"1\" class=\"dataframe\">\n",
       "  <thead>\n",
       "    <tr style=\"text-align: right;\">\n",
       "      <th></th>\n",
       "      <th>count</th>\n",
       "      <th>rate_%</th>\n",
       "    </tr>\n",
       "    <tr>\n",
       "      <th>booking_complete</th>\n",
       "      <th></th>\n",
       "      <th></th>\n",
       "    </tr>\n",
       "  </thead>\n",
       "  <tbody>\n",
       "    <tr>\n",
       "      <th>0</th>\n",
       "      <td>42522</td>\n",
       "      <td>85.04</td>\n",
       "    </tr>\n",
       "    <tr>\n",
       "      <th>1</th>\n",
       "      <td>7478</td>\n",
       "      <td>14.96</td>\n",
       "    </tr>\n",
       "  </tbody>\n",
       "</table>\n",
       "</div>"
      ],
      "text/plain": [
       "                  count  rate_%\n",
       "booking_complete               \n",
       "0                 42522   85.04\n",
       "1                  7478   14.96"
      ]
     },
     "metadata": {},
     "output_type": "display_data"
    }
   ],
   "source": [
    "import pandas as pd\n",
    "\n",
    "\n",
    "if df['booking_complete'].dtype != 'int64' and df['booking_complete'].dtype != 'float64':\n",
    "    \n",
    "    df['booking_complete'] = df['booking_complete'].map({True:1, False:0, 'Yes':1, 'No':0, 'Y':1, 'N':0}).fillna(df['booking_complete'])\n",
    "df['booking_complete'] = df['booking_complete'].astype(int)\n",
    "\n",
    "# Class balance\n",
    "counts = df['booking_complete'].value_counts(dropna=False)\n",
    "rates = df['booking_complete'].value_counts(normalize=True, dropna=False).mul(100).round(2)\n",
    "\n",
    "print(\"Booking completion class counts:\")\n",
    "print(counts.to_string())\n",
    "print(\"\\nBooking completion class rates (%):\")\n",
    "print(rates.to_string())\n",
    "\n",
    "# Small, neat display as a DataFrame\n",
    "class_balance = pd.DataFrame({\n",
    "    'count': counts,\n",
    "    'rate_%': rates\n",
    "}).sort_index()\n",
    "display(class_balance)\n"
   ]
  },
  {
   "cell_type": "markdown",
   "id": "04892d74",
   "metadata": {},
   "source": [
    "## Type cleaning"
   ]
  },
  {
   "cell_type": "code",
   "execution_count": null,
   "id": "ca6495d1",
   "metadata": {},
   "outputs": [
    {
     "data": {
      "text/plain": [
       "0        6\n",
       "1        6\n",
       "2        3\n",
       "3        6\n",
       "4        3\n",
       "        ..\n",
       "49995    6\n",
       "49996    7\n",
       "49997    6\n",
       "49998    1\n",
       "49999    4\n",
       "Name: flight_day_numerical, Length: 50000, dtype: int64"
      ]
     },
     "execution_count": 26,
     "metadata": {},
     "output_type": "execute_result"
    }
   ],
   "source": [
    "# map the days with their corresponding order in a week \n",
    "df['flight_day'].value_counts()\n",
    "mapping={'Mon':1,'Tue':2,'Wed':3,'Thu':4,'Fri':5,'Sat':6,'Sun':7}\n",
    "df['flight_day_numerical']=df['flight_day'].map(mapping)\n",
    "df['flight_day_numerical']"
   ]
  },
  {
   "cell_type": "code",
   "execution_count": 28,
   "id": "45317c36",
   "metadata": {},
   "outputs": [],
   "source": [
    "df['flight_duration']=df['flight_duration'].clip(lower=0)\n",
    "df['flight_hour']=df['flight_hour'].clip(lower=0)\n",
    "df['num_passengers']=df['num_passengers'].clip(lower=1)\n",
    "df['length_of_stay']=df['length_of_stay'].clip(lower=0)\n",
    "df['purchase_lead']=df['purchase_lead'].clip(lower=0)"
   ]
  },
  {
   "cell_type": "code",
   "execution_count": 29,
   "id": "8c6a04a5",
   "metadata": {},
   "outputs": [],
   "source": [
    "num_cols = df.select_dtypes(include=['number']).columns.tolist()\n",
    "cat_cols = df.select_dtypes(include=['object','category']).columns.tolist()\n",
    "\n",
    "df[num_cols] = df[num_cols].apply(lambda s: s.fillna(s.median()))\n",
    "df[cat_cols] = df[cat_cols].apply(lambda s: s.fillna('Unknown'))"
   ]
  },
  {
   "cell_type": "code",
   "execution_count": 30,
   "id": "3cbc0eca",
   "metadata": {},
   "outputs": [
    {
     "data": {
      "text/plain": [
       "num_passengers           0\n",
       "sales_channel            0\n",
       "trip_type                0\n",
       "purchase_lead            0\n",
       "length_of_stay           0\n",
       "flight_hour              0\n",
       "flight_day               0\n",
       "route                    0\n",
       "booking_origin           0\n",
       "wants_extra_baggage      0\n",
       "wants_preferred_seat     0\n",
       "wants_in_flight_meals    0\n",
       "flight_duration          0\n",
       "booking_complete         0\n",
       "flight_day_numerical     0\n",
       "dtype: int64"
      ]
     },
     "metadata": {},
     "output_type": "display_data"
    }
   ],
   "source": [
    "display(df.isna().sum().sort_values(ascending=False).head(15))"
   ]
  },
  {
   "cell_type": "markdown",
   "id": "9f6d3f60",
   "metadata": {},
   "source": [
    "## Bins and dayparts"
   ]
  },
  {
   "cell_type": "code",
   "execution_count": 37,
   "id": "9625b8ba",
   "metadata": {},
   "outputs": [],
   "source": [
    "\n",
    "\n",
    "# Lead bins\n",
    "lead_bins=[-np.inf,3,7,14,30,90,np.inf]\n",
    "lead_bins_label=['0-3','4-7','8-14','15-30','31-90','90+']\n",
    "df['lead_bins']=pd.cut(df['purchase_lead'].clip(lower=0),bins=lead_bins,labels=lead_bins_label,include_lowest=True)\n",
    "# length of stay bins\n",
    "stay_bins=[-np.inf,3,7,14,30,90,np.inf]\n",
    "stay_bins_label=['0-3','4-7','8-14','15-30','31-90','90+']\n",
    "df['stay_bin']=pd.cut(df['length_of_stay'].clip(lower=0),bins=stay_bins,labels=stay_bins_label,include_lowest=True)\n",
    "#part of the day\n",
    "def day_part(h):\n",
    "    if 0 <= h <= 5: return 'night'\n",
    "    if 6 <= h <= 11: return 'morning'\n",
    "    if 12 <= h <= 17: return 'afternoon'\n",
    "    return 'evening'\n",
    "df['daypart'] = df['flight_hour'].apply(day_part)\n",
    "\n",
    "\n",
    "\n"
   ]
  },
  {
   "cell_type": "markdown",
   "id": "d5ed0b67",
   "metadata": {},
   "source": [
    "## Completion rate plots"
   ]
  },
  {
   "cell_type": "markdown",
   "id": "e32d2fc4",
   "metadata": {},
   "source": [
    "## Numeric vs Target plot"
   ]
  },
  {
   "cell_type": "markdown",
   "id": "5b27dddd",
   "metadata": {},
   "source": [
    "## Top 5  EDA insights and  Hypothese"
   ]
  }
 ],
 "metadata": {
  "kernelspec": {
   "display_name": "Python 3",
   "language": "python",
   "name": "python3"
  },
  "language_info": {
   "codemirror_mode": {
    "name": "ipython",
    "version": 3
   },
   "file_extension": ".py",
   "mimetype": "text/x-python",
   "name": "python",
   "nbconvert_exporter": "python",
   "pygments_lexer": "ipython3",
   "version": "3.12.10"
  }
 },
 "nbformat": 4,
 "nbformat_minor": 5
}
